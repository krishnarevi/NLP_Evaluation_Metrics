{
  "nbformat": 4,
  "nbformat_minor": 0,
  "metadata": {
    "accelerator": "GPU",
    "colab": {
      "name": "bertscore_ppl_epochwise.ipynb",
      "provenance": [],
      "machine_shape": "hm",
      "include_colab_link": true
    },
    "kernelspec": {
      "display_name": "Python 3",
      "language": "python",
      "name": "python3"
    },
    "language_info": {
      "codemirror_mode": {
        "name": "ipython",
        "version": 3
      },
      "file_extension": ".py",
      "mimetype": "text/x-python",
      "name": "python",
      "nbconvert_exporter": "python",
      "pygments_lexer": "ipython3",
      "version": "3.8.5"
    }
  },
  "cells": [
    {
      "cell_type": "markdown",
      "metadata": {
        "id": "view-in-github",
        "colab_type": "text"
      },
      "source": [
        "<a href=\"https://colab.research.google.com/github/krishnarevi/NLP_Evaluation_Metrics/blob/main/bertscore_ppl_epochwise.ipynb\" target=\"_parent\"><img src=\"https://colab.research.google.com/assets/colab-badge.svg\" alt=\"Open In Colab\"/></a>"
      ]
    },
    {
      "cell_type": "markdown",
      "metadata": {
        "id": "Er-xIfqxO2oi"
      },
      "source": [
        "\n",
        "## Preparing Data\n",
        "\n",
        "First, we'll import all the modules as before, with the addition of the `matplotlib` modules used for viewing the attention.\n",
        "\n",
        " We will be using `Multi30k <http://www.statmt.org/wmt16/multimodal-task.html#task1>`__ \n",
        "dataset to train a German to English translation model."
      ]
    },
    {
      "cell_type": "code",
      "metadata": {
        "colab": {
          "base_uri": "https://localhost:8080/"
        },
        "id": "UPIF1-VqO9ZS",
        "outputId": "4e3f956a-55a0-469a-e8d8-3bbd02cc8c47"
      },
      "source": [
        "%%bash\n",
        "pip install -U spacy --quiet\n",
        "python -m spacy download en --quiet\n",
        "python -m spacy download de --quiet"
      ],
      "execution_count": null,
      "outputs": [
        {
          "output_type": "stream",
          "text": [
            "\u001b[38;5;3m⚠ As of spaCy v3.0, shortcuts like 'en' are deprecated. Please use the\n",
            "full pipeline package name 'en_core_web_sm' instead.\u001b[0m\n",
            "\u001b[38;5;2m✔ Download and installation successful\u001b[0m\n",
            "You can now load the package via spacy.load('en_core_web_sm')\n",
            "\u001b[38;5;3m⚠ As of spaCy v3.0, shortcuts like 'de' are deprecated. Please use the\n",
            "full pipeline package name 'de_core_news_sm' instead.\u001b[0m\n",
            "\u001b[38;5;2m✔ Download and installation successful\u001b[0m\n",
            "You can now load the package via spacy.load('de_core_news_sm')\n"
          ],
          "name": "stdout"
        },
        {
          "output_type": "stream",
          "text": [
            "2021-07-10 17:35:18.081287: I tensorflow/stream_executor/platform/default/dso_loader.cc:53] Successfully opened dynamic library libcudart.so.11.0\n",
            "2021-07-10 17:35:26.753135: I tensorflow/stream_executor/platform/default/dso_loader.cc:53] Successfully opened dynamic library libcudart.so.11.0\n"
          ],
          "name": "stderr"
        }
      ]
    },
    {
      "cell_type": "code",
      "metadata": {
        "id": "Q7TFxQGqO2op"
      },
      "source": [
        "import torch\n",
        "import torch.nn as nn\n",
        "import torch.optim as optim\n",
        "import torch.nn.functional as F\n",
        "from torchtext.data.utils import get_tokenizer\n",
        "from torchtext.vocab import build_vocab_from_iterator\n",
        "from torchtext.datasets import Multi30k\n",
        "from typing import Iterable, List\n",
        "\n",
        "# from typing import Tuple\n",
        "# from torch import Tensor\n",
        "import matplotlib.pyplot as plt\n",
        "import matplotlib.ticker as ticker\n",
        "import spacy\n",
        "import numpy as np\n",
        "import random\n",
        "import math\n",
        "import time\n",
        "\n"
      ],
      "execution_count": null,
      "outputs": []
    },
    {
      "cell_type": "markdown",
      "metadata": {
        "id": "xpjscRELO2oq"
      },
      "source": [
        "Next, we'll set the random seed for reproducability."
      ]
    },
    {
      "cell_type": "code",
      "metadata": {
        "id": "LPTqPJlWO2or"
      },
      "source": [
        "SEED = 1234\n",
        "\n",
        "random.seed(SEED)\n",
        "np.random.seed(SEED)\n",
        "torch.manual_seed(SEED)\n",
        "torch.cuda.manual_seed(SEED)\n",
        "torch.backends.cudnn.deterministic = True"
      ],
      "execution_count": null,
      "outputs": []
    },
    {
      "cell_type": "markdown",
      "metadata": {
        "id": "Ll64V6QSO2os"
      },
      "source": [
        "Data Sourcing and Processing\n",
        "----------------------------\n",
        "\n",
        "`torchtext library <https://pytorch.org/text/stable/>`__ has utilities for creating datasets that can be easily\n",
        "iterated through for the purposes of creating a language translation\n",
        "model. In this example, we show how to use torchtext's inbuilt datasets, \n",
        "tokenize a raw text sentence, build vocabulary, and numericalize tokens into tensor. We will use\n",
        "`Multi30k dataset from torchtext library <https://pytorch.org/text/stable/datasets.html#multi30k>`__\n",
        "that yields a pair of source-target raw sentences. \n",
        "\n",
        "\n",
        "\n"
      ]
    },
    {
      "cell_type": "code",
      "metadata": {
        "id": "Uas3m6mXO2ot"
      },
      "source": [
        "SRC_LANGUAGE = 'de'\n",
        "TGT_LANGUAGE = 'en'\n",
        "\n",
        "# Place-holders\n",
        "token_transform = {}\n",
        "vocab_transform = {}\n"
      ],
      "execution_count": null,
      "outputs": []
    },
    {
      "cell_type": "code",
      "metadata": {
        "id": "K5O9iH1d7oJD"
      },
      "source": [
        "token_transform[SRC_LANGUAGE] = get_tokenizer('spacy', language=\"de_core_news_sm\")\n",
        "token_transform[TGT_LANGUAGE] = get_tokenizer('spacy', language=\"en_core_web_sm\")"
      ],
      "execution_count": null,
      "outputs": []
    },
    {
      "cell_type": "code",
      "metadata": {
        "id": "ooxftC1HO2ot"
      },
      "source": [
        "\n",
        "# helper function to yield list of tokens\n",
        "\n",
        "def yield_tokens(data_iter: Iterable, language: str) -> List[str]:\n",
        "    language_index = {SRC_LANGUAGE: 0, TGT_LANGUAGE: 1}\n",
        "\n",
        "    for data_sample in data_iter:\n",
        "        yield token_transform[language](data_sample[language_index[language]])"
      ],
      "execution_count": null,
      "outputs": []
    },
    {
      "cell_type": "code",
      "metadata": {
        "id": "jPpCUV6M7MuY"
      },
      "source": [
        "\n",
        "# Define special symbols and indices\n",
        "UNK_IDX, PAD_IDX, BOS_IDX, EOS_IDX = 0, 1, 2, 3\n",
        "# Make sure the tokens are in order of their indices to properly insert them in vocab\n",
        "special_symbols = ['<unk>', '<pad>', '<bos>', '<eos>']"
      ],
      "execution_count": null,
      "outputs": []
    },
    {
      "cell_type": "code",
      "metadata": {
        "id": "ogduK-oU7Njw"
      },
      "source": [
        "for ln in [SRC_LANGUAGE, TGT_LANGUAGE]:\n",
        "  # Training data Iterator \n",
        "  train_iter = Multi30k(split='train', language_pair=(SRC_LANGUAGE, TGT_LANGUAGE))\n",
        "  # Create torchtext's Vocab object \n",
        "  vocab_transform[ln] = build_vocab_from_iterator(yield_tokens(train_iter, ln),\n",
        "                                                    min_freq=5,\n",
        "                                                    specials=special_symbols,\n",
        "                                                    special_first=True)"
      ],
      "execution_count": null,
      "outputs": []
    },
    {
      "cell_type": "code",
      "metadata": {
        "id": "eOX7D7mEDYXj"
      },
      "source": [
        "# Set UNK_IDX as the default index. This index is returned when the token is not found. \n",
        "# If not set, it throws RuntimeError when the queried token is not found in the Vocabulary. \n",
        "for ln in [SRC_LANGUAGE, TGT_LANGUAGE]:\n",
        "  vocab_transform[ln].set_default_index(UNK_IDX)"
      ],
      "execution_count": null,
      "outputs": []
    },
    {
      "cell_type": "markdown",
      "metadata": {
        "id": "P915i4KtO2ov"
      },
      "source": [
        "When using packed padded sequences, we need to tell PyTorch how long the actual (non-padded) sequences are. Luckily for us, TorchText's `Field` objects allow us to use the `include_lengths` argument, this will cause our `batch.src` to be a tuple. The first element of the tuple is the same as before, a batch of numericalized source sentence as a tensor, and the second element is the non-padded lengths of each source sentence within the batch."
      ]
    },
    {
      "cell_type": "code",
      "metadata": {
        "id": "HKaVr1fYnwBV"
      },
      "source": [
        "from torch.nn.utils.rnn import pad_sequence\n",
        "\n",
        "# helper function to club together sequential operations\n",
        "def sequential_transforms(*transforms):\n",
        "    def func(txt_input):\n",
        "        for transform in transforms:\n",
        "            txt_input = transform(txt_input)\n",
        "        return txt_input\n",
        "    return func\n",
        "\n",
        "# function to add BOS/EOS and create tensor for input sequence indices\n",
        "def tensor_transform(token_ids):\n",
        "    return torch.cat((torch.tensor([BOS_IDX]), \n",
        "                      torch.tensor(token_ids), \n",
        "                      torch.tensor([EOS_IDX])))\n",
        "\n",
        "# src and tgt language text transforms to convert raw strings into tensors indices\n",
        "text_transform = {}\n",
        "for ln in [SRC_LANGUAGE, TGT_LANGUAGE]:\n",
        "    text_transform[ln] = sequential_transforms(token_transform[ln], #Tokenization\n",
        "                                               vocab_transform[ln], #Numericalization\n",
        "                                               tensor_transform) # Add BOS/EOS and create tensor\n",
        "\n",
        "\n",
        "# function to collate data samples into batch tensors\n",
        "def collate_fn(batch):\n",
        "    \n",
        "    src_batch,src_len_batch, tgt_batch = [], [],[]\n",
        "    for src_sample, tgt_sample in batch:\n",
        "        src_batch.append(text_transform[SRC_LANGUAGE](src_sample.rstrip(\"\\n\")))\n",
        "        tgt_batch.append(text_transform[TGT_LANGUAGE](tgt_sample.rstrip(\"\\n\")))\n",
        "        src_len_batch.append(len(text_transform[SRC_LANGUAGE](src_sample.rstrip(\"\\n\"))))\n",
        "    src_batch = pad_sequence(src_batch, padding_value=PAD_IDX)\n",
        "    tgt_batch = pad_sequence(tgt_batch, padding_value=PAD_IDX)\n",
        "    lengths = torch.LongTensor(src_len_batch)\n",
        "\n",
        "    return src_batch,lengths, tgt_batch"
      ],
      "execution_count": null,
      "outputs": []
    },
    {
      "cell_type": "markdown",
      "metadata": {
        "id": "cm9TsM2i82DO"
      },
      "source": [
        "Create test data loader"
      ]
    },
    {
      "cell_type": "code",
      "metadata": {
        "id": "wqX5mOhdnLOp"
      },
      "source": [
        "test_iter = Multi30k(split='test', language_pair=(SRC_LANGUAGE, TGT_LANGUAGE))\n"
      ],
      "execution_count": null,
      "outputs": []
    },
    {
      "cell_type": "markdown",
      "metadata": {
        "id": "EXvGWPAT86jr"
      },
      "source": [
        "Let's view one example from test set"
      ]
    },
    {
      "cell_type": "code",
      "metadata": {
        "colab": {
          "base_uri": "https://localhost:8080/"
        },
        "id": "RphJRmBunV-9",
        "outputId": "ddce5f73-7931-40ec-c877-a72e9997e34f"
      },
      "source": [
        "next(iter(test_iter))"
      ],
      "execution_count": null,
      "outputs": [
        {
          "output_type": "execute_result",
          "data": {
            "text/plain": [
              "('Ein Mann mit einem orangefarbenen Hut, der etwas anstarrt.\\n',\n",
              " 'A man in an orange hat starring at something.\\n')"
            ]
          },
          "metadata": {
            "tags": []
          },
          "execution_count": 12
        }
      ]
    },
    {
      "cell_type": "markdown",
      "metadata": {
        "id": "BAX3_6QqO2o2"
      },
      "source": [
        "## Building the Model\n",
        "\n",
        "### Encoder\n",
        "\n",
        "Next up, we define the encoder.\n",
        "\n",
        "The changes here all within the `forward` method. It now accepts the lengths of the source sentences as well as the sentences themselves. \n",
        "\n",
        "After the source sentence (padded automatically within the iterator) has been embedded, we can then use `pack_padded_sequence` on it with the lengths of the sentences. Note that the tensor containing the lengths of the sequences must be a CPU tensor as of the latest version of PyTorch, which we explicitly do so with `to('cpu')`. `packed_embedded` will then be our packed padded sequence. This can be then fed to our RNN as normal which will return `packed_outputs`, a packed tensor containing all of the hidden states from the sequence, and `hidden` which is simply the final hidden state from our sequence. `hidden` is a standard tensor and not packed in any way, the only difference is that as the input was a packed sequence, this tensor is from the final **non-padded element** in the sequence.\n",
        "\n",
        "We then unpack our `packed_outputs` using `pad_packed_sequence` which returns the `outputs` and the lengths of each, which we don't need. \n",
        "\n",
        "The first dimension of `outputs` is the padded sequence lengths however due to using a packed padded sequence the values of tensors when a padding token was the input will be all zeros."
      ]
    },
    {
      "cell_type": "code",
      "metadata": {
        "id": "sRVWoNDjO2o3"
      },
      "source": [
        "class Encoder(nn.Module):\n",
        "    def __init__(self, input_dim, emb_dim, enc_hid_dim, dec_hid_dim, dropout):\n",
        "        super().__init__()\n",
        "        \n",
        "        self.embedding = nn.Embedding(input_dim, emb_dim)\n",
        "        \n",
        "        self.rnn = nn.GRU(emb_dim, enc_hid_dim, bidirectional = True)\n",
        "        \n",
        "        self.fc = nn.Linear(enc_hid_dim * 2, dec_hid_dim)\n",
        "        \n",
        "        self.dropout = nn.Dropout(dropout)\n",
        "        \n",
        "    def forward(self, src, src_len):\n",
        "        \n",
        "        #src = [src len, batch size]\n",
        "        #src_len = [batch size]\n",
        "        \n",
        "        embedded = self.dropout(self.embedding(src))\n",
        "        \n",
        "        #embedded = [src len, batch size, emb dim]\n",
        "                \n",
        "        #need to explicitly put lengths on cpu!\n",
        "        packed_embedded = nn.utils.rnn.pack_padded_sequence(embedded, src_len.to('cpu'),enforce_sorted=False)\n",
        "                \n",
        "        packed_outputs, hidden = self.rnn(packed_embedded)\n",
        "                                 \n",
        "        #packed_outputs is a packed sequence containing all hidden states\n",
        "        #hidden is now from the final non-padded element in the batch\n",
        "            \n",
        "        outputs, _ = nn.utils.rnn.pad_packed_sequence(packed_outputs) \n",
        "            \n",
        "        #outputs is now a non-packed sequence, all hidden states obtained\n",
        "        #  when the input is a pad token are all zeros\n",
        "            \n",
        "        #outputs = [src len, batch size, hid dim * num directions]\n",
        "        #hidden = [n layers * num directions, batch size, hid dim]\n",
        "        \n",
        "        #hidden is stacked [forward_1, backward_1, forward_2, backward_2, ...]\n",
        "        #outputs are always from the last layer\n",
        "        \n",
        "        #hidden [-2, :, : ] is the last of the forwards RNN \n",
        "        #hidden [-1, :, : ] is the last of the backwards RNN\n",
        "        \n",
        "        #initial decoder hidden is final hidden state of the forwards and backwards \n",
        "        #  encoder RNNs fed through a linear layer\n",
        "        hidden = torch.tanh(self.fc(torch.cat((hidden[-2,:,:], hidden[-1,:,:]), dim = 1)))\n",
        "        \n",
        "        #outputs = [src len, batch size, enc hid dim * 2]\n",
        "        #hidden = [batch size, dec hid dim]\n",
        "        \n",
        "        return outputs, hidden"
      ],
      "execution_count": null,
      "outputs": []
    },
    {
      "cell_type": "markdown",
      "metadata": {
        "id": "pd60jbUJO2o4"
      },
      "source": [
        "### Attention\n",
        "\n",
        "The attention module is where we calculate the attention values over the source sentence. \n",
        "\n",
        "Previously, we allowed this module to \"pay attention\" to padding tokens within the source sentence. However, using *masking*, we can force the attention to only be over non-padding elements.\n",
        "\n",
        "The `forward` method now takes a `mask` input. This is a **[batch size, source sentence length]** tensor that is 1 when the source sentence token is not a padding token, and 0 when it is a padding token. For example, if the source sentence is: [\"hello\", \"how\", \"are\", \"you\", \"?\", `<pad>`, `<pad>`], then the mask would be [1, 1, 1, 1, 1, 0, 0].\n",
        "\n",
        "We apply the mask after the attention has been calculated, but before it has been normalized by the `softmax` function. It is applied using `masked_fill`. This fills the tensor at each element where the first argument (`mask == 0`) is true, with the value given by the second argument (`-1e10`). In other words, it will take the un-normalized attention values, and change the attention values over padded elements to be `-1e10`. As these numbers will be miniscule compared to the other values they will become zero when passed through the `softmax` layer, ensuring no attention is payed to padding tokens in the source sentence."
      ]
    },
    {
      "cell_type": "code",
      "metadata": {
        "id": "LLGYuDvkO2o5"
      },
      "source": [
        "class Attention(nn.Module):\n",
        "    def __init__(self, enc_hid_dim, dec_hid_dim):\n",
        "        super().__init__()\n",
        "        \n",
        "        self.attn = nn.Linear((enc_hid_dim * 2) + dec_hid_dim, dec_hid_dim)\n",
        "        self.v = nn.Linear(dec_hid_dim, 1, bias = False)\n",
        "        \n",
        "    def forward(self, hidden, encoder_outputs, mask):\n",
        "        \n",
        "        #hidden = [batch size, dec hid dim]\n",
        "        #encoder_outputs = [src len, batch size, enc hid dim * 2]\n",
        "        \n",
        "        batch_size = encoder_outputs.shape[1]\n",
        "        src_len = encoder_outputs.shape[0]\n",
        "        \n",
        "        #repeat decoder hidden state src_len times\n",
        "        hidden = hidden.unsqueeze(1).repeat(1, src_len, 1)\n",
        "  \n",
        "        encoder_outputs = encoder_outputs.permute(1, 0, 2)\n",
        "        \n",
        "        #hidden = [batch size, src len, dec hid dim]\n",
        "        #encoder_outputs = [batch size, src len, enc hid dim * 2]\n",
        "        \n",
        "        energy = torch.tanh(self.attn(torch.cat((hidden, encoder_outputs), dim = 2))) \n",
        "        \n",
        "        #energy = [batch size, src len, dec hid dim]\n",
        "\n",
        "        attention = self.v(energy).squeeze(2)\n",
        "        \n",
        "        #attention = [batch size, src len]\n",
        "        \n",
        "        attention = attention.masked_fill(mask == 0, -1e10)\n",
        "        \n",
        "        return F.softmax(attention, dim = 1)"
      ],
      "execution_count": null,
      "outputs": []
    },
    {
      "cell_type": "markdown",
      "metadata": {
        "id": "X-q2yPz4O2o6"
      },
      "source": [
        "### Decoder\n",
        "\n",
        "The decoder only needs a few small changes. It needs to accept a mask over the source sentence and pass this to the attention module. As we want to view the values of attention during inference, we also return the attention tensor."
      ]
    },
    {
      "cell_type": "code",
      "metadata": {
        "id": "oByi5PwyO2o7"
      },
      "source": [
        "class Decoder(nn.Module):\n",
        "    def __init__(self, output_dim, emb_dim, enc_hid_dim, dec_hid_dim, dropout, attention):\n",
        "        super().__init__()\n",
        "\n",
        "        self.output_dim = output_dim\n",
        "        self.attention = attention\n",
        "        \n",
        "        self.embedding = nn.Embedding(output_dim, emb_dim)\n",
        "        \n",
        "        self.rnn = nn.GRU((enc_hid_dim * 2) + emb_dim, dec_hid_dim)\n",
        "        \n",
        "        self.fc_out = nn.Linear((enc_hid_dim * 2) + dec_hid_dim + emb_dim, output_dim)\n",
        "        \n",
        "        self.dropout = nn.Dropout(dropout)\n",
        "        \n",
        "    def forward(self, input, hidden, encoder_outputs, mask):\n",
        "             \n",
        "        #input = [batch size]\n",
        "        #hidden = [batch size, dec hid dim]\n",
        "        #encoder_outputs = [src len, batch size, enc hid dim * 2]\n",
        "        #mask = [batch size, src len]\n",
        "        \n",
        "        input = input.unsqueeze(0)\n",
        "        \n",
        "        #input = [1, batch size]\n",
        "        \n",
        "        embedded = self.dropout(self.embedding(input))\n",
        "        \n",
        "        #embedded = [1, batch size, emb dim]\n",
        "        \n",
        "        a = self.attention(hidden, encoder_outputs, mask)\n",
        "                \n",
        "        #a = [batch size, src len]\n",
        "        \n",
        "        a = a.unsqueeze(1)\n",
        "        \n",
        "        #a = [batch size, 1, src len]\n",
        "        \n",
        "        encoder_outputs = encoder_outputs.permute(1, 0, 2)\n",
        "        \n",
        "        #encoder_outputs = [batch size, src len, enc hid dim * 2]\n",
        "        \n",
        "        weighted = torch.bmm(a, encoder_outputs)\n",
        "        \n",
        "        #weighted = [batch size, 1, enc hid dim * 2]\n",
        "        \n",
        "        weighted = weighted.permute(1, 0, 2)\n",
        "        \n",
        "        #weighted = [1, batch size, enc hid dim * 2]\n",
        "        \n",
        "        rnn_input = torch.cat((embedded, weighted), dim = 2)\n",
        "        \n",
        "        #rnn_input = [1, batch size, (enc hid dim * 2) + emb dim]\n",
        "            \n",
        "        output, hidden = self.rnn(rnn_input, hidden.unsqueeze(0))\n",
        "        \n",
        "        #output = [seq len, batch size, dec hid dim * n directions]\n",
        "        #hidden = [n layers * n directions, batch size, dec hid dim]\n",
        "        \n",
        "        #seq len, n layers and n directions will always be 1 in this decoder, therefore:\n",
        "        #output = [1, batch size, dec hid dim]\n",
        "        #hidden = [1, batch size, dec hid dim]\n",
        "        #this also means that output == hidden\n",
        "        assert (output == hidden).all()\n",
        "        \n",
        "        embedded = embedded.squeeze(0)\n",
        "        output = output.squeeze(0)\n",
        "        weighted = weighted.squeeze(0)\n",
        "        \n",
        "        prediction = self.fc_out(torch.cat((output, weighted, embedded), dim = 1))\n",
        "        \n",
        "        #prediction = [batch size, output dim]\n",
        "        \n",
        "        return prediction, hidden.squeeze(0), a.squeeze(1)"
      ],
      "execution_count": null,
      "outputs": []
    },
    {
      "cell_type": "markdown",
      "metadata": {
        "id": "Ky3zTylPO2o8"
      },
      "source": [
        "### Seq2Seq\n",
        "\n",
        "The overarching seq2seq model also needs a few changes for packed padded sequences, masking and inference. \n",
        "\n",
        "We need to tell it what the indexes are for the pad token and also pass the source sentence lengths as input to the `forward` method.\n",
        "\n",
        "We use the pad token index to create the masks, by creating a mask tensor that is 1 wherever the source sentence is not equal to the pad token. This is all done within the `create_mask` function.\n",
        "\n",
        "The sequence lengths as needed to pass to the encoder to use packed padded sequences.\n",
        "\n",
        "The attention at each time-step is stored in the `attentions` "
      ]
    },
    {
      "cell_type": "code",
      "metadata": {
        "id": "JWa6BkMtO2o9"
      },
      "source": [
        "class Seq2Seq(nn.Module):\n",
        "    def __init__(self, encoder, decoder, src_pad_idx, device):\n",
        "        super().__init__()\n",
        "        \n",
        "        self.encoder = encoder\n",
        "        self.decoder = decoder\n",
        "        self.src_pad_idx = src_pad_idx\n",
        "        self.device = device\n",
        "        \n",
        "    def create_mask(self, src):\n",
        "        mask = (src != self.src_pad_idx).permute(1, 0)\n",
        "        return mask\n",
        "        \n",
        "    def forward(self, src, src_len, tgt, teacher_forcing_ratio = 0.5):\n",
        "        \n",
        "        #src = [src len, batch size]\n",
        "        #src_len = [batch size]\n",
        "        #tgt = [tgt len, batch size]\n",
        "        #teacher_forcing_ratio is probability to use teacher forcing\n",
        "        #e.g. if teacher_forcing_ratio is 0.75 we use teacher forcing 75% of the time\n",
        "                    \n",
        "        batch_size = src.shape[1]\n",
        "        tgt_len = tgt.shape[0]\n",
        "        tgt_vocab_size = self.decoder.output_dim\n",
        "        \n",
        "        #tensor to store decoder outputs\n",
        "        outputs = torch.zeros(tgt_len, batch_size, tgt_vocab_size).to(self.device)\n",
        "        \n",
        "        #encoder_outputs is all hidden states of the input sequence, back and forwards\n",
        "        #hidden is the final forward and backward hidden states, passed through a linear layer\n",
        "        encoder_outputs, hidden = self.encoder(src, src_len)\n",
        "                \n",
        "        #first input to the decoder is the <bos> tokens\n",
        "        input = tgt[0,:]\n",
        "        \n",
        "        mask = self.create_mask(src)\n",
        "\n",
        "        #mask = [batch size, src len]\n",
        "                \n",
        "        for t in range(1, tgt_len):\n",
        "            \n",
        "            #insert input token embedding, previous hidden state, all encoder hidden states \n",
        "            #  and mask\n",
        "            #receive output tensor (predictions) and new hidden state\n",
        "            output, hidden, _ = self.decoder(input, hidden, encoder_outputs, mask)\n",
        "            \n",
        "            #place predictions in a tensor holding predictions for each token\n",
        "            outputs[t] = output\n",
        "            \n",
        "            #decide if we are going to use teacher forcing or not\n",
        "            teacher_force = random.random() < teacher_forcing_ratio\n",
        "            \n",
        "            #get the highest predicted token from our predictions\n",
        "            top1 = output.argmax(1) \n",
        "            \n",
        "            #if teacher forcing, use actual next token as next input\n",
        "            #if not, use predicted token\n",
        "            input = tgt[t] if teacher_force else top1\n",
        "              \n",
        "        return outputs"
      ],
      "execution_count": null,
      "outputs": []
    },
    {
      "cell_type": "markdown",
      "metadata": {
        "id": "VY1tVyCmO2o-"
      },
      "source": [
        "## Training the Seq2Seq Model\n",
        "\n",
        "Next up, initializing the model and placing it on the GPU."
      ]
    },
    {
      "cell_type": "code",
      "metadata": {
        "id": "uNNtr-IoO2o-"
      },
      "source": [
        "INPUT_DIM = len(vocab_transform[SRC_LANGUAGE])\n",
        "OUTPUT_DIM = len(vocab_transform[TGT_LANGUAGE])\n",
        "ENC_EMB_DIM = 256\n",
        "DEC_EMB_DIM = 256\n",
        "ENC_HID_DIM = 512\n",
        "DEC_HID_DIM = 512\n",
        "ENC_DROPOUT = 0.5\n",
        "DEC_DROPOUT = 0.5\n",
        "# SRC_PAD_IDX = SRC.vocab.stoi[SRC.pad_token]\n",
        "SRC_PAD_IDX=PAD_IDX\n",
        "\n",
        "BATCH_SIZE = 16\n",
        "device = torch.device('cuda' if torch.cuda.is_available() else 'cpu')\n",
        "\n",
        "attn = Attention(ENC_HID_DIM, DEC_HID_DIM)\n",
        "enc = Encoder(INPUT_DIM, ENC_EMB_DIM, ENC_HID_DIM, DEC_HID_DIM, ENC_DROPOUT)\n",
        "dec = Decoder(OUTPUT_DIM, DEC_EMB_DIM, ENC_HID_DIM, DEC_HID_DIM, DEC_DROPOUT, attn)\n",
        "\n",
        "model = Seq2Seq(enc, dec, SRC_PAD_IDX, device).to(device)"
      ],
      "execution_count": null,
      "outputs": []
    },
    {
      "cell_type": "markdown",
      "metadata": {
        "id": "A2pVW9P4O2o-"
      },
      "source": [
        "Then, we initialize the model parameters."
      ]
    },
    {
      "cell_type": "code",
      "metadata": {
        "colab": {
          "base_uri": "https://localhost:8080/"
        },
        "id": "CQwIt940O2o_",
        "outputId": "7265b3b7-1eb5-4119-bde3-d8116bca1601"
      },
      "source": [
        "def init_weights(m):\n",
        "    for name, param in m.named_parameters():\n",
        "        if 'weight' in name:\n",
        "            nn.init.normal_(param.data, mean=0, std=0.01)\n",
        "        else:\n",
        "            nn.init.constant_(param.data, 0)\n",
        "            \n",
        "model.apply(init_weights)"
      ],
      "execution_count": null,
      "outputs": [
        {
          "output_type": "execute_result",
          "data": {
            "text/plain": [
              "Seq2Seq(\n",
              "  (encoder): Encoder(\n",
              "    (embedding): Embedding(3631, 256)\n",
              "    (rnn): GRU(256, 512, bidirectional=True)\n",
              "    (fc): Linear(in_features=1024, out_features=512, bias=True)\n",
              "    (dropout): Dropout(p=0.5, inplace=False)\n",
              "  )\n",
              "  (decoder): Decoder(\n",
              "    (attention): Attention(\n",
              "      (attn): Linear(in_features=1536, out_features=512, bias=True)\n",
              "      (v): Linear(in_features=512, out_features=1, bias=False)\n",
              "    )\n",
              "    (embedding): Embedding(3369, 256)\n",
              "    (rnn): GRU(1280, 512)\n",
              "    (fc_out): Linear(in_features=1792, out_features=3369, bias=True)\n",
              "    (dropout): Dropout(p=0.5, inplace=False)\n",
              "  )\n",
              ")"
            ]
          },
          "metadata": {
            "tags": []
          },
          "execution_count": 18
        }
      ]
    },
    {
      "cell_type": "markdown",
      "metadata": {
        "id": "1SWJIIn4O2o_"
      },
      "source": [
        "We'll print out the number of trainable parameters in the model, noticing that it has the exact same amount of parameters as the model without these improvements."
      ]
    },
    {
      "cell_type": "code",
      "metadata": {
        "colab": {
          "base_uri": "https://localhost:8080/"
        },
        "id": "OpNi7DrdO2pA",
        "outputId": "e364ea0f-0848-4fcd-b593-185dedcca47a"
      },
      "source": [
        "def count_parameters(model):\n",
        "    return sum(p.numel() for p in model.parameters() if p.requires_grad)\n",
        "\n",
        "print(f'The model has {count_parameters(model):,} trainable parameters')"
      ],
      "execution_count": null,
      "outputs": [
        {
          "output_type": "stream",
          "text": [
            "The model has 14,265,897 trainable parameters\n"
          ],
          "name": "stdout"
        }
      ]
    },
    {
      "cell_type": "markdown",
      "metadata": {
        "id": "wHZtWKFwO2pA"
      },
      "source": [
        "Then we define our optimizer and criterion. \n",
        "\n",
        "The `ignore_index` for the criterion needs to be the index of the pad token for the target language, not the source language."
      ]
    },
    {
      "cell_type": "code",
      "metadata": {
        "id": "LapnG5IeO2pA"
      },
      "source": [
        "optimizer = optim.Adam(model.parameters())"
      ],
      "execution_count": null,
      "outputs": []
    },
    {
      "cell_type": "code",
      "metadata": {
        "id": "Ce_kR6qBO2pB"
      },
      "source": [
        "\n",
        "criterion = torch.nn.CrossEntropyLoss(ignore_index=PAD_IDX)"
      ],
      "execution_count": null,
      "outputs": []
    },
    {
      "cell_type": "markdown",
      "metadata": {
        "id": "rPYjaAq51j8s"
      },
      "source": [
        "BERTScore"
      ]
    },
    {
      "cell_type": "code",
      "metadata": {
        "id": "Sz1yFKMKqAE0"
      },
      "source": [
        "!pip install transformers==3.0.1 --quiet\n",
        "!pip install bert_score==0.3.9 --quiet\n",
        "from bert_score import score"
      ],
      "execution_count": null,
      "outputs": []
    },
    {
      "cell_type": "markdown",
      "metadata": {
        "id": "nFRbgUGmO2pB"
      },
      "source": [
        "Next, we'll define our training and evaluation loops.\n"
      ]
    },
    {
      "cell_type": "code",
      "metadata": {
        "id": "YaKIBCzbeOZs"
      },
      "source": [
        "from torch.utils.data import DataLoader\n",
        "\n",
        "def train_epoch(model, optimizer):\n",
        "    model.train()\n",
        "    epoch_loss = 0\n",
        "    train_iter = Multi30k(split='train', language_pair=(SRC_LANGUAGE, TGT_LANGUAGE))\n",
        "    train_dataloader = DataLoader(train_iter, batch_size=BATCH_SIZE, collate_fn=collate_fn)\n",
        "    \n",
        "    for src,src_len, tgt in train_dataloader:\n",
        "        # get the source and target sentences from the batch\n",
        "        src = src.to(device)\n",
        "        tgt = tgt.to(device)\n",
        "        #tgt = [(tgt len - 1) * batch size]\n",
        "        #output = [(tgt len - 1) * batch size, output dim]\n",
        "     \n",
        "        optimizer.zero_grad() #zero the gradients calculated from the last batch\n",
        "        output = model(src,src_len, tgt)  #feed the source and target into the model to get the output\n",
        "        \n",
        "        # as the loss function only works on 2d inputs with 1d targets we need to flatten each of them with .view\n",
        "        output = output[1:].view(-1, output.shape[-1]) #shape of output = [(tgt len - 1) * batch size, output dim]\n",
        "        tgt = tgt[1:].view(-1)# shape of target  = [(tgt len - 1) * batch size]\n",
        "        \n",
        "        loss = criterion(output, tgt) #calculate loss\n",
        "        loss.backward() #calculate the gradients\n",
        "        clip = 1\n",
        "        torch.nn.utils.clip_grad_norm_(model.parameters(), clip)# clip the gradients to prevent them from exploding\n",
        "\n",
        "        optimizer.step() #update weights\n",
        "        epoch_loss += loss.item() #sum the loss value to a running total\n",
        "\n",
        "    return epoch_loss / len(train_dataloader)\n",
        "\n",
        "\n",
        "\n",
        "def evaluate(model):\n",
        "    model.eval()\n",
        "    epoch_loss = 0\n",
        "    epoch_f1, epoch_p, epoch_r= 0, 0, 0\n",
        "\n",
        "    val_iter = Multi30k(split='valid', language_pair=(SRC_LANGUAGE, TGT_LANGUAGE)) # Load validation dataset\n",
        "    val_dataloader = DataLoader(val_iter, batch_size=BATCH_SIZE, collate_fn=collate_fn) # create  dataloader\n",
        "\n",
        "    for src,src_len, tgt in val_dataloader:\n",
        "        # get the source and target sentences from the batch\n",
        "        src = src.to(device)\n",
        "        tgt = tgt.to(device)\n",
        "        \n",
        "        #shape of tgt = [tgt len, batch size]\n",
        "        #shape of output = [tgt len, batch size, output dim]\n",
        "\n",
        "        output = model(src,src_len, tgt,0)  #turn off teacher forcing\n",
        "        \n",
        "        # following part of code is dedicated to BERTScore calculation \n",
        "\n",
        "        tgt_t =tgt.transpose(1,0) # swap dim0 and dim 1 to get each row as a sentence ,shape of tgt_t = [batch size,tgt len]\n",
        "        out=output.argmax(2) # shape of output is [tgt len, batch size, output dim] , select token predicted with maximum score from dim 2\n",
        "        out_t=out.transpose(1,0) # swap dim0 and dim 1 to get each row as a sentence , shape of out_t = [batch size,tgt len]\n",
        "\n",
        "        tgt_list=[]\n",
        "        out_list=[]\n",
        "\n",
        "        for o,t in zip(out_t,tgt_t): # select each sentence tensor from output batch and target batch\n",
        "          if  EOS_IDX in o: # if <eos> token is present in tensor , select index\n",
        "            o_idx = (o == EOS_IDX).nonzero()[0].item()\n",
        "          else :\n",
        "            o_idx =len(o)\n",
        "\n",
        "          t_idx = (t == EOS_IDX).nonzero()[0].item()\n",
        "\n",
        "\n",
        "          tgt_indices = t[:t_idx] # trim tensor till <eos> token\n",
        "          out_indices = o[:o_idx] # trim tensor till <eos> token\n",
        "\n",
        "          tgt_tokens=vocab_transform[TGT_LANGUAGE].lookup_tokens(list(tgt_indices[1:t_idx]))   # convert indices into string tokens with vocab transform \n",
        "          out_tokens=vocab_transform[TGT_LANGUAGE].lookup_tokens(list(out_indices[1:o_idx]))  # convert indices into string tokens with vocab transform \n",
        "          \n",
        "\n",
        "          tgt_sentences=\" \".join(tgt_tokens) #form sentences joining tokens , omit bos ,eos tokens\n",
        "          out_sentences=\" \".join(out_tokens) #form sentences joining tokens , omit bos ,eos tokens\n",
        "          tgt_list.append(tgt_sentences) # append each target sentence to create reference corpus\n",
        "          out_list.append(out_sentences) # append each target sentence to create candidate corpus\n",
        "        # print(\"tgt\",tgt_list)\n",
        "        # print(\"out\",out_list)\n",
        "\n",
        "\n",
        "  \n",
        "        \n",
        "        P, R, F1 = score(out_list,tgt_list, lang=\"en\", verbose=False)# score function calculate precision, recall, and F1 on senetence level \n",
        "        # take average of all candidate reference pairs to get the system level score\n",
        "\n",
        "        f1_avg=round(F1.mean().item(),3)\n",
        "        p_avg=round(P.mean().item(),3)\n",
        "        r_avg=round(R.mean().item(),3)\n",
        "        # print(\"FI_avg\",f1_avg)\n",
        "        # print(\"P_avg\",p_avg)\n",
        "        # print(\"R_avg\",r_avg)\n",
        "        # epoch_f1 +=f1_avg #sum the f1 value to a running total\n",
        "        # epoch_p +=p_avg #sum the precision value to a running total\n",
        "        # epoch_r +=r_avg #sum the recall value to a running total\n",
        "\n",
        "\n",
        "        # Reshaping output and target tensor so that it is suitable for crossentrophy loss \n",
        "        output = output[1:].view(-1, output.shape[-1]) #shape of output = [(tgt len - 1) * batch size, output dim]\n",
        "        tgt = tgt[1:].view(-1)# shape of target  = [(tgt len - 1) * batch size]\n",
        "\n",
        "        loss = criterion(output, tgt)#calculate loss\n",
        "        epoch_loss += loss.item() # #sum the loss value to a running total\n",
        "\n",
        "  \n",
        "\n",
        "    return epoch_loss / len(val_dataloader), f1_avg / len(val_dataloader),p_avg / len(val_dataloader),r_avg / len(val_dataloader)\n"
      ],
      "execution_count": null,
      "outputs": []
    },
    {
      "cell_type": "markdown",
      "metadata": {
        "id": "yuI_xFvuDitZ"
      },
      "source": [
        "Let's do training "
      ]
    },
    {
      "cell_type": "code",
      "metadata": {
        "id": "CF9z3TSkiIvo"
      },
      "source": [
        "from timeit import default_timer as timer\n",
        "NUM_EPOCHS = 5\n",
        "\n",
        "train_los=[]\n",
        "val_los=[]\n",
        "train_ppl=[]\n",
        "val_ppl=[]\n",
        "b_f1,b_p,b_r=[],[],[]\n",
        "best_val_loss = float('inf')\n",
        "\n",
        "for epoch in range(1, NUM_EPOCHS+1):\n",
        "    start_time = timer()\n",
        "    train_loss = train_epoch(model, optimizer)\n",
        "    train_los.append(train_loss)\n",
        "    train_ppl.append(math.exp(train_loss))  \n",
        "    end_time = timer()\n",
        "    val_loss,f1,p,r = evaluate(model)\n",
        "    val_los.append(val_loss)\n",
        "    val_ppl.append(math.exp(val_loss))\n",
        "    b_f1.append(f1)\n",
        "    b_p.append(p)\n",
        "    b_r.append(r)\n",
        "\n",
        "\n",
        "        \n",
        "    if val_loss < best_val_loss:\n",
        "        best_val_loss = val_loss\n",
        "        torch.save(model.state_dict(), 'saved-model.pt')\n",
        "  \n",
        "\n",
        "    print(f'\\t Epoch: {epoch}  | Epoch time : {(end_time - start_time):.3f}s')\n",
        "    print(f'\\tTrain Loss: {train_loss:.3f} | Train PPL: {math.exp(train_loss):7.3f}')\n",
        "    print(f'\\t Val. Loss: {val_loss:.3f} |  Val. PPL: {math.exp(val_loss):7.3f}')\n",
        "    print(f'F1 score: {f1:.3f} | Precision: {p:.3f} | Recall:{r:.3f} ')"
      ],
      "execution_count": null,
      "outputs": []
    },
    {
      "cell_type": "code",
      "metadata": {
        "id": "Y19pPV0cjhI3"
      },
      "source": [
        "import matplotlib.pyplot as plt\n",
        "plt.style.use('seaborn-darkgrid')\n",
        "plt.figure()\n",
        "plt.plot(train_los, color = 'magenta')\n",
        "plt.plot(val_los, color = '#606060')\n",
        "plt.title('Train and test Loss')\n",
        "plt.legend(['train_loss', 'validation_loss'], loc = 'upper right')\n",
        "plt.grid(axis = 'y', c = 'black', alpha = 0.2)\n",
        "plt.grid(axis = 'x', c = 'black', alpha = 0.2)"
      ],
      "execution_count": null,
      "outputs": []
    },
    {
      "cell_type": "code",
      "metadata": {
        "id": "qTsjRstz9C9V"
      },
      "source": [
        "import matplotlib.pyplot as plt\n",
        "plt.style.use('seaborn-darkgrid')\n",
        "plt.figure()\n",
        "plt.plot(b_f1, color = 'magenta')\n",
        "plt.title('F1 Score')\n",
        "plt.grid(axis = 'y', c = 'black', alpha = 0.2)\n",
        "plt.grid(axis = 'x', c = 'black', alpha = 0.2)"
      ],
      "execution_count": null,
      "outputs": []
    },
    {
      "cell_type": "code",
      "metadata": {
        "id": "B_gL7sznHMbb"
      },
      "source": [
        "import matplotlib.pyplot as plt\n",
        "plt.style.use('seaborn-darkgrid')\n",
        "plt.figure()\n",
        "plt.plot(b_p, color = 'magenta')\n",
        "plt.title('Precision')\n",
        "plt.grid(axis = 'y', c = 'black', alpha = 0.2)\n",
        "plt.grid(axis = 'x', c = 'black', alpha = 0.2)"
      ],
      "execution_count": null,
      "outputs": []
    },
    {
      "cell_type": "code",
      "metadata": {
        "id": "rAmnvrhoHU2K"
      },
      "source": [
        "import matplotlib.pyplot as plt\n",
        "plt.style.use('seaborn-darkgrid')\n",
        "plt.figure()\n",
        "plt.plot(b_r, color = 'magenta')\n",
        "plt.title('Recall')\n",
        "plt.grid(axis = 'y', c = 'black', alpha = 0.2)\n",
        "plt.grid(axis = 'x', c = 'black', alpha = 0.2)"
      ],
      "execution_count": null,
      "outputs": []
    },
    {
      "cell_type": "code",
      "metadata": {
        "id": "-NKHw39y-GHe"
      },
      "source": [
        "import matplotlib.pyplot as plt\n",
        "plt.style.use('seaborn-darkgrid')\n",
        "plt.figure()\n",
        "plt.plot(train_ppl, color = 'magenta')\n",
        "plt.plot(val_ppl, color = '#606060')\n",
        "plt.title('Train and test PPL')\n",
        "plt.legend(['train', 'validation'], loc = 'upper right')\n",
        "plt.grid(axis = 'y', c = 'black', alpha = 0.2)\n",
        "plt.grid(axis = 'x', c = 'black', alpha = 0.2)"
      ],
      "execution_count": null,
      "outputs": []
    },
    {
      "cell_type": "markdown",
      "metadata": {
        "id": "hq0iOt4QO2pD"
      },
      "source": [
        "Finally, we load the parameters from our best validation loss and get our results on the test set.\n",
        "\n",
        "We get the improved test perplexity whilst almost being twice as fast!"
      ]
    },
    {
      "cell_type": "markdown",
      "metadata": {
        "id": "MyU0GsreO2pE"
      },
      "source": [
        "## Inference\n",
        "\n",
        "Now we can use our trained model to generate translations.\n",
        "\n",
        "**Note:** these translations will be poor compared to examples shown in paper as they use hidden dimension sizes of 1000 and train for 4 days! They have been cherry picked in order to show off what attention should look like on a sufficiently sized model.\n",
        "\n",
        "Our `translate` function will do the following:\n",
        "- ensure our model is in evaluation mode, which it should always be for inference\n",
        "- Apply text transformations to the source sentence\n",
        "- convert it to a tensor and add a batch dimension\n",
        "- get the length of the source sentence and convert to a tensor\n",
        "- feed the source sentence into the encoder\n",
        "- create the mask for the source sentence\n",
        "- create a list to hold the output sentence, initialized with an `<sos>` token\n",
        "- create a tensor to hold the attention values\n",
        "- while we have not hit a maximum length\n",
        "  - get the input tensor, which should be either `<sos>` or the last predicted token\n",
        "  - feed the input, all encoder outputs, hidden state and mask into the decoder\n",
        "  - store attention values\n",
        "  - get the predicted next token\n",
        "  - add prediction to current output sentence prediction\n",
        "  - break if the prediction was an `<eos>` token\n",
        "- convert the output sentence from indexes to tokens\n",
        "-Join tokens to form output sentence\n",
        "- return the output sentence ,output tokens (with the `<sos>` token removed) and the attention values over the sequence"
      ]
    },
    {
      "cell_type": "code",
      "metadata": {
        "id": "6Qu3yIV0zVI9"
      },
      "source": [
        "# actual function to translate input sentence into target language\n",
        "def translate(model: torch.nn.Module, src_sentence: str,max_len=50):\n",
        "    model.eval()\n",
        "\n",
        "    src_indexes = text_transform[SRC_LANGUAGE](src_sentence)\n",
        "\n",
        "    # src_indexes=tokens\n",
        "    src_tensor = torch.LongTensor(src_indexes).unsqueeze(1).to(device)\n",
        "\n",
        "    src_len = torch.LongTensor([len(src_indexes)])\n",
        "\n",
        "    with torch.no_grad():\n",
        "        encoder_outputs, hidden = model.encoder(src_tensor, src_len)\n",
        "\n",
        "    mask = model.create_mask(src_tensor)\n",
        "    tgt_indexes = vocab_transform[TGT_LANGUAGE](['<bos>'])\n",
        "    attentions = torch.zeros(max_len, 1, len(src_indexes)).to(device)\n",
        "    for i in range(max_len):\n",
        "\n",
        "        tgt_tensor = torch.LongTensor([tgt_indexes[-1]]).to(device)\n",
        "                \n",
        "        with torch.no_grad():\n",
        "            output, hidden, attention = model.decoder(tgt_tensor, hidden, encoder_outputs, mask)\n",
        "\n",
        "        attentions[i] = attention\n",
        "            \n",
        "        pred_token = output.argmax(1).item()\n",
        "        \n",
        "        tgt_indexes.append(pred_token)\n",
        "\n",
        "        if pred_token == EOS_IDX:\n",
        "            break\n",
        "    \n",
        "    tgt_tokens = vocab_transform[TGT_LANGUAGE].lookup_tokens(list(tgt_indexes))\n",
        "    pred_sentence=\" \".join(vocab_transform[TGT_LANGUAGE].lookup_tokens(list(tgt_indexes))).replace(\"<bos>\", \"\").replace(\"<eos>\", \"\")\n",
        "    \n",
        "    return pred_sentence,tgt_tokens[1:], attentions[:len(tgt_tokens)-1]\n",
        "\n"
      ],
      "execution_count": null,
      "outputs": []
    },
    {
      "cell_type": "markdown",
      "metadata": {
        "id": "opXzXBi0O2pF"
      },
      "source": [
        "Next, we'll make a function that displays the model's attention over the source sentence for each target token generated."
      ]
    },
    {
      "cell_type": "code",
      "metadata": {
        "id": "UZtdZROdO2pF"
      },
      "source": [
        "import matplotlib.ticker as ticker\n",
        "def display_attention(sentence, translation, attention):\n",
        "    \n",
        "    fig = plt.figure(figsize=(10,10))\n",
        "    ax = fig.add_subplot(111)\n",
        "    \n",
        "    attention = attention.squeeze(1).cpu().detach().numpy()\n",
        "    \n",
        "    cax = ax.matshow(attention, cmap='bone')\n",
        "   \n",
        "    ax.tick_params(labelsize=15)\n",
        "    \n",
        "    x_ticks = [''] + ['<bos>'] + [t.lower() for t in sentence] + ['<eos>']\n",
        "    y_ticks = [''] + translation\n",
        "     \n",
        "    ax.set_xticklabels(x_ticks, rotation=45)\n",
        "    ax.set_yticklabels(y_ticks)\n",
        "\n",
        "    ax.xaxis.set_major_locator(ticker.MultipleLocator(1))\n",
        "    ax.yaxis.set_major_locator(ticker.MultipleLocator(1))\n",
        "\n",
        "    plt.show()\n",
        "    plt.close()"
      ],
      "execution_count": null,
      "outputs": []
    },
    {
      "cell_type": "markdown",
      "metadata": {
        "id": "t4hjngkIO2pF"
      },
      "source": [
        "Now, we'll grab some translations from our dataset and see how well our model did. Note, we're going to cherry pick examples here so it gives us something interesting to look at, but feel free to change the `example_idx` value to look at different examples.\n",
        "\n",
        "First, we'll get a source and target from our dataset."
      ]
    },
    {
      "cell_type": "code",
      "metadata": {
        "id": "7OLohocV7SL9"
      },
      "source": [
        "src,tgt=next(iter(test_iter))\n",
        "src=src.rstrip(\"\\n\")\n",
        "tgt=tgt.rstrip(\"\\n\")\n",
        "print(f'src = {src}')\n",
        "print(f'tgt = {tgt}')\n",
        "\n",
        "translation,tgt_tokens, attention =translate(model,src )\n",
        "\n",
        "print(f'predicted tgt = {translation}')\n"
      ],
      "execution_count": null,
      "outputs": []
    },
    {
      "cell_type": "code",
      "metadata": {
        "id": "a6t7mc-B8L4I"
      },
      "source": [
        "src,tgt=next(iter(test_iter))\n",
        "src=src.rstrip(\"\\n\")\n",
        "tgt=tgt.rstrip(\"\\n\")\n",
        "print(f'src = {src}')\n",
        "print(f'tgt = {tgt}')\n",
        "\n",
        "translation,tgt_tokens, attention =translate(model,src )\n",
        "\n",
        "print(f'predicted tgt = {translation}')"
      ],
      "execution_count": null,
      "outputs": []
    },
    {
      "cell_type": "code",
      "metadata": {
        "id": "YWV32dNy8UNr"
      },
      "source": [
        "src,tgt=next(iter(test_iter))\n",
        "src=src.rstrip(\"\\n\")\n",
        "tgt=tgt.rstrip(\"\\n\")\n",
        "print(f'src = {src}')\n",
        "print(f'tgt = {tgt}')\n",
        "\n",
        "translation,tgt_tokens, attention =translate(model,src )\n",
        "\n",
        "print(f'predicted tgt = {translation}')"
      ],
      "execution_count": null,
      "outputs": []
    },
    {
      "cell_type": "code",
      "metadata": {
        "id": "eztMEGuf8XZe"
      },
      "source": [
        "src,tgt=next(iter(test_iter))\n",
        "src=src.rstrip(\"\\n\")\n",
        "tgt=tgt.rstrip(\"\\n\")\n",
        "print(f'src = {src}')\n",
        "print(f'tgt = {tgt}')\n",
        "\n",
        "translation,tgt_tokens, attention =translate(model,src )\n",
        "\n",
        "print(f'predicted tgt = {translation}')"
      ],
      "execution_count": null,
      "outputs": []
    },
    {
      "cell_type": "markdown",
      "metadata": {
        "id": "R_gkZtmOO2pG"
      },
      "source": [
        "Then we'll use our `translate` function to get our predicted translation and attention of a random german sentence. We show this graphically by having the source sentence on the x-axis and the predicted translation on the y-axis. The lighter the square at the intersection between two words, the more attention the model gave to that source word when translating that target word.\n",
        "\n",
        "Below is an example the model attempted to translate,\"*Eine Gruppe von Menschen steht vor einem Iglu .*\" which means \" *A group of people standing in an Iglu* \". it gets the translation correct ."
      ]
    },
    {
      "cell_type": "code",
      "metadata": {
        "id": "R-VDNdIpMQkY"
      },
      "source": [
        "src_sentence=\"Eine Gruppe von Menschen steht vor einem Iglu .\"\n",
        "translation,tgt_tokens, attention =translate(model,src_sentence )\n",
        "\n",
        "print(f'predicted tgt = {translation}')"
      ],
      "execution_count": null,
      "outputs": []
    },
    {
      "cell_type": "code",
      "metadata": {
        "id": "2oxxVsEcjUTz"
      },
      "source": [
        "src = token_transform[SRC_LANGUAGE](src_sentence)\n",
        "# tgt = vars(train_data.examples[example_idx])['tgt']\n",
        "\n",
        "print(f'src = {src}')\n",
        "# print(f'tgt = {tgt}')"
      ],
      "execution_count": null,
      "outputs": []
    },
    {
      "cell_type": "code",
      "metadata": {
        "id": "U3-qULzhk92d"
      },
      "source": [
        "tgt_tokens"
      ],
      "execution_count": null,
      "outputs": []
    },
    {
      "cell_type": "code",
      "metadata": {
        "id": "N-8uZyQMO2pH"
      },
      "source": [
        "display_attention(src, tgt_tokens, attention)"
      ],
      "execution_count": null,
      "outputs": []
    },
    {
      "cell_type": "markdown",
      "metadata": {
        "id": "RHQJf1QtYb_b"
      },
      "source": [
        "bert_score also provides a convenient function plot_example to support sentence-level visualization by plotting th e pairwise cosine similarity.Let's plot an example from our test set"
      ]
    },
    {
      "cell_type": "code",
      "metadata": {
        "id": "XavJmiKWYUal"
      },
      "source": [
        "from bert_score import plot_example\n",
        "\n",
        "\n",
        "plot_example(src_sentence, translation, lang=\"en\")"
      ],
      "execution_count": null,
      "outputs": []
    }
  ]
}