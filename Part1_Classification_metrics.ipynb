{
  "nbformat": 4,
  "nbformat_minor": 0,
  "metadata": {
    "colab": {
      "name": "Part1_Classification_metrics.ipynb",
      "provenance": [],
      "collapsed_sections": [],
      "include_colab_link": true
    },
    "kernelspec": {
      "display_name": "Python 3",
      "name": "python3"
    },
    "language_info": {
      "name": "python"
    },
    "accelerator": "GPU"
  },
  "cells": [
    {
      "cell_type": "markdown",
      "metadata": {
        "id": "view-in-github",
        "colab_type": "text"
      },
      "source": [
        "<a href=\"https://colab.research.google.com/github/krishnarevi/TSAI_END2.0_Session9/blob/main/Part1_Classification_metrics.ipynb\" target=\"_parent\"><img src=\"https://colab.research.google.com/assets/colab-badge.svg\" alt=\"Open In Colab\"/></a>"
      ]
    },
    {
      "cell_type": "markdown",
      "metadata": {
        "id": "FmnKFJfNCjf5"
      },
      "source": [
        "#Sentiment analysis with LSTM"
      ]
    },
    {
      "cell_type": "markdown",
      "metadata": {
        "id": "YDIgyftNR3Mq"
      },
      "source": [
        "Machine learning model to detect sentiment of movie reviews from IMDb dataset using PyTorch and TorchText. "
      ]
    },
    {
      "cell_type": "markdown",
      "metadata": {
        "id": "JKr7BrB8SOcn"
      },
      "source": [
        "## Preparing Data\n",
        "\n",
        "One of the main concepts of TorchText is the `Field`. These define how your data should be processed. In our sentiment classification task the data consists of both the raw string of the review and the sentiment, either \"pos\" or \"neg\".\n",
        " "
      ]
    },
    {
      "cell_type": "code",
      "metadata": {
        "id": "4SPhj6gnAnT2"
      },
      "source": [
        "import torch\n",
        "from torchtext.legacy import data\n",
        "\n",
        "SEED = 1234\n",
        "\n",
        "torch.manual_seed(SEED)#setting random seed for reproducibility\n",
        "torch.backends.cudnn.deterministic = True\n",
        "#The parameters of a `Field` specify how the data should be processed. \n",
        "TEXT = data.Field(tokenize = 'spacy',\n",
        "                  tokenizer_language = 'en_core_web_sm')#`tokenize='spacy' defines that the \"tokenization\" should be done using the `spaCy` tokenizer. `tokenizer_language` tells torchtext which spaCy model to use. We use the `en_core_web_sm` model \n",
        "\n",
        "LABEL = data.LabelField(dtype = torch.float)#define how to process the sentiment"
      ],
      "execution_count": null,
      "outputs": []
    },
    {
      "cell_type": "markdown",
      "metadata": {
        "id": "k0UPIE7gIAQy"
      },
      "source": [
        "\n",
        "Loads IMDb dataset consists of 50,000 movie reviews, each marked as being a positive or negative review."
      ]
    },
    {
      "cell_type": "code",
      "metadata": {
        "id": "lwn4oStE6PzV"
      },
      "source": [
        "from torchtext.legacy import datasets\n",
        "'''downloads the IMDb dataset and splits it into the train/test splits as 'torchtext.datasets' objects.\n",
        " It process the data using the 'Fields' we have previously defined. '''\n",
        "\n",
        "train_data, test_data = datasets.IMDB.splits(TEXT, LABEL)#load the IMDb dataset."
      ],
      "execution_count": null,
      "outputs": []
    },
    {
      "cell_type": "markdown",
      "metadata": {
        "id": "wLoNWY19nYCk"
      },
      "source": [
        "View how many examples are in each split."
      ]
    },
    {
      "cell_type": "code",
      "metadata": {
        "colab": {
          "base_uri": "https://localhost:8080/"
        },
        "id": "5DLJ86m56Xdn",
        "outputId": "39cdaac0-eab6-4809-cb8e-c63b6134c668"
      },
      "source": [
        "print(f'Number of training examples: {len(train_data)}')\n",
        "print(f'Number of testing examples: {len(test_data)}')"
      ],
      "execution_count": null,
      "outputs": [
        {
          "output_type": "stream",
          "text": [
            "Number of training examples: 25000\n",
            "Number of testing examples: 25000\n"
          ],
          "name": "stdout"
        }
      ]
    },
    {
      "cell_type": "code",
      "metadata": {
        "colab": {
          "base_uri": "https://localhost:8080/"
        },
        "id": "iXTWwqXA6rP2",
        "outputId": "6b58303a-5ced-4a4a-be98-8083672fc1c8"
      },
      "source": [
        "print(vars(train_data.examples[0]))"
      ],
      "execution_count": null,
      "outputs": [
        {
          "output_type": "stream",
          "text": [
            "{'text': ['I', 'love', 'this', 'movie', '.', 'As', 'a', 'kid', ',', 'this', 'was', 'one', 'of', 'the', 'first', 'movies', 'I', 'saw', 'that', 'made', 'me', 'flinch', '.', 'Sure', ',', 'it', 'is', 'mild', 'now', ',', 'but', 'back', 'in', 'the', 'day', ',', 'it', 'was', 'awesome', '.', 'Dentists', 'are', 'one', 'thing', 'so', 'many', 'people', 'fear', ',', 'so', 'why', 'not', 'do', 'a', 'movie', 'about', 'a', 'killer', 'dentist', '?', 'It', \"'s\", 'cheesy', ',', 'it', \"'s\", 'fun', ',', 'sometimes', 'it', \"'s\", 'scary', ',', 'but', 'it', 'is', 'awesome', '.', 'And', 'I', 'have', 'always', 'had', 'a', 'love', 'for', 'medical', 'horror', '.', 'And', 'Corbin', 'Bernsen', 'plays', 'Dr.', 'Feinstone', 'perfectly', ',', 'no', 'one', 'could', 'have', 'done', 'it', 'better', '.', 'And', 'for', 'a', 'low', 'budget', 'horror', 'film', ',', 'the', 'effects', 'and', 'such', 'are', 'quite', 'good', '.', 'And', 'I', 'also', 'love', 'the', 'theme', 'music', ',', 'it', 'goes', 'well', 'with', 'the', 'film', '.', 'Ken', 'Foree', '(', 'Dawn', 'of', 'the', 'Dead', ')', 'is', 'also', 'in', 'this', 'one', 'playing', 'a', 'nosy', 'cop', ',', 'and', 'does', 'a', 'fine', 'job', '.', 'There', 'is', 'a', 'fair', 'amount', 'of', 'blood', ',', 'and', 'some', 'really', 'cool', 'torture', '/', 'death', 'scenes', '.', 'Check', 'this', 'one', 'out', '!'], 'label': 'pos'}\n"
          ],
          "name": "stdout"
        }
      ]
    },
    {
      "cell_type": "markdown",
      "metadata": {
        "id": "nKZXu2AufCJj"
      },
      "source": [
        "The IMDb dataset only has train/test splits, so we need to create a validation set. We can do this with the `.split()` method.By default this splits 70/30.\n",
        "We also pass our random seed to the `random_state` argument, ensuring that we get the same train/validation split each time."
      ]
    },
    {
      "cell_type": "code",
      "metadata": {
        "id": "3HMVqiZd6tR0"
      },
      "source": [
        "import random\n",
        "\n",
        "train_data, valid_data = train_data.split(random_state = random.seed(SEED))"
      ],
      "execution_count": null,
      "outputs": []
    },
    {
      "cell_type": "markdown",
      "metadata": {
        "id": "naGMVpe_fHu4"
      },
      "source": [
        "Again, we'll view how many examples are in each split."
      ]
    },
    {
      "cell_type": "code",
      "metadata": {
        "colab": {
          "base_uri": "https://localhost:8080/"
        },
        "id": "uOeQ6KpP7M-0",
        "outputId": "aca03281-4f90-46b7-9fe5-aabb71132b86"
      },
      "source": [
        "print(f'Number of training examples: {len(train_data)}')\n",
        "print(f'Number of validation examples: {len(valid_data)}')\n",
        "print(f'Number of testing examples: {len(test_data)}')"
      ],
      "execution_count": null,
      "outputs": [
        {
          "output_type": "stream",
          "text": [
            "Number of training examples: 17500\n",
            "Number of validation examples: 7500\n",
            "Number of testing examples: 25000\n"
          ],
          "name": "stdout"
        }
      ]
    },
    {
      "cell_type": "markdown",
      "metadata": {
        "id": "DhN43bOKfSb-"
      },
      "source": [
        "Next, we have to build a _vocabulary_. This is a effectively a look up table where every unique word in data set has a corresponding _index_ (an integer).We do this as our machine learning model cannot operate on strings, only numbers. Each _index_ is used to construct a _one-hot_ vector for each word.\n",
        "\n",
        "The number of unique words in our training set is over 100,000, which means that our one-hot vectors will have over 100,000 dimensions! This will make training slow \n",
        "To cut down our vocabulary effectively we builds the vocabulary, only keeping the most common `max_size` tokens."
      ]
    },
    {
      "cell_type": "code",
      "metadata": {
        "id": "KixkM1jQ7TB-"
      },
      "source": [
        "MAX_VOCAB_SIZE = 25_000\n",
        "\n",
        "TEXT.build_vocab(train_data, \n",
        "                 max_size = MAX_VOCAB_SIZE\n",
        "                )\n",
        "\n",
        "LABEL.build_vocab(train_data)\n"
      ],
      "execution_count": null,
      "outputs": []
    },
    {
      "cell_type": "markdown",
      "metadata": {
        "id": "b1XQvsdwfh1e"
      },
      "source": [
        "we only build the vocabulary on the training set since our machine learning system you do not want to look at the test set in any way"
      ]
    },
    {
      "cell_type": "code",
      "metadata": {
        "colab": {
          "base_uri": "https://localhost:8080/"
        },
        "id": "hD4SFKnc7g0D",
        "outputId": "a30ca26a-7d72-4cd0-b64b-6e86e6469df8"
      },
      "source": [
        "print(f\"Unique tokens in TEXT vocabulary: {len(TEXT.vocab)}\")\n",
        "print(f\"Unique tokens in LABEL vocabulary: {len(LABEL.vocab)}\")"
      ],
      "execution_count": null,
      "outputs": [
        {
          "output_type": "stream",
          "text": [
            "Unique tokens in TEXT vocabulary: 25002\n",
            "Unique tokens in LABEL vocabulary: 2\n"
          ],
          "name": "stdout"
        }
      ]
    },
    {
      "cell_type": "markdown",
      "metadata": {
        "id": "UO-tBnVdfl6x"
      },
      "source": [
        "\n",
        "View most common words in the vocabulary and their frequencies."
      ]
    },
    {
      "cell_type": "code",
      "metadata": {
        "colab": {
          "base_uri": "https://localhost:8080/"
        },
        "id": "ttKvFTCQ7isK",
        "outputId": "94e7595e-cc5f-4386-c798-c41b585a9b80"
      },
      "source": [
        "print(TEXT.vocab.freqs.most_common(20))"
      ],
      "execution_count": null,
      "outputs": [
        {
          "output_type": "stream",
          "text": [
            "[('the', 204654), (',', 193706), ('.', 166654), ('a', 110379), ('and', 110255), ('of', 101985), ('to', 94532), ('is', 77157), ('in', 61939), ('I', 54100), ('it', 53465), ('that', 49472), ('\"', 44818), (\"'s\", 43285), ('this', 42954), ('-', 37418), ('/><br', 36182), ('was', 35177), ('as', 30666), ('with', 30171)]\n"
          ],
          "name": "stdout"
        }
      ]
    },
    {
      "cell_type": "markdown",
      "metadata": {
        "id": "fzrwByKNfr9l"
      },
      "source": [
        "We can also see the vocabulary directly using either the `stoi` (**s**tring **to** **i**nt) or `itos` (**i**nt **to**  **s**tring) method."
      ]
    },
    {
      "cell_type": "code",
      "metadata": {
        "colab": {
          "base_uri": "https://localhost:8080/"
        },
        "id": "fZXIsIV47mlI",
        "outputId": "33d83c66-090a-4894-bc62-6d3133dd54fb"
      },
      "source": [
        "print(TEXT.vocab.itos[:10])"
      ],
      "execution_count": null,
      "outputs": [
        {
          "output_type": "stream",
          "text": [
            "['<unk>', '<pad>', 'the', ',', '.', 'a', 'and', 'of', 'to', 'is']\n"
          ],
          "name": "stdout"
        }
      ]
    },
    {
      "cell_type": "markdown",
      "metadata": {
        "id": "3VZoQwaSfyaG"
      },
      "source": [
        "We can also check the labels, ensuring 0 is for negative and 1 is for positive."
      ]
    },
    {
      "cell_type": "code",
      "metadata": {
        "id": "vmbx3T9-7x4g",
        "colab": {
          "base_uri": "https://localhost:8080/"
        },
        "outputId": "936bddd2-62d4-406e-c072-a76f0b6f9980"
      },
      "source": [
        "print(LABEL.vocab.stoi)"
      ],
      "execution_count": null,
      "outputs": [
        {
          "output_type": "stream",
          "text": [
            "defaultdict(None, {'neg': 0, 'pos': 1})\n"
          ],
          "name": "stdout"
        }
      ]
    },
    {
      "cell_type": "markdown",
      "metadata": {
        "id": "p7M1wohnf2md"
      },
      "source": [
        "\n",
        "The final step of preparing the data is creating the iterators. We iterate over these in the training/evaluation loop, and they return a batch of examples (indexed and converted into tensors) at each iteration.\n",
        "\n",
        "We'll use a `BucketIterator` which is a special type of iterator that will return a batch of examples where each example is of a similar length, minimizing the amount of padding per example.\n",
        "\n",
        "We also want to place the tensors returned by the iterator on the GPU. PyTorch handles this using `torch.device`, we then pass this device to the iterator."
      ]
    },
    {
      "cell_type": "code",
      "metadata": {
        "id": "fuaGCpsjiPLO"
      },
      "source": [
        "BATCH_SIZE = 32\n",
        "\n",
        "device = torch.device('cuda' if torch.cuda.is_available() else 'cpu')\n",
        "\n",
        "train_iterator, valid_iterator, test_iterator = data.BucketIterator.splits(\n",
        "    (train_data, valid_data, test_data), \n",
        "    batch_size = BATCH_SIZE,\n",
        "    sort_within_batch = True,\n",
        "    device = device)"
      ],
      "execution_count": null,
      "outputs": []
    },
    {
      "cell_type": "markdown",
      "metadata": {
        "id": "lzEBXm5Ulb3F"
      },
      "source": [
        "Save tokenizer for later use"
      ]
    },
    {
      "cell_type": "code",
      "metadata": {
        "id": "Lo1Lk6DWlaNl"
      },
      "source": [
        "import os, pickle\n",
        "with open('tokenizer.pkl', 'wb') as tokens: \n",
        "    pickle.dump(TEXT.vocab.stoi, tokens)"
      ],
      "execution_count": null,
      "outputs": []
    },
    {
      "cell_type": "markdown",
      "metadata": {
        "id": "XiMVFFoif9HS"
      },
      "source": [
        "## Build the Model\n",
        "\n",
        "The next stage is building the model that we'll eventually train and evaluate. \n",
        "\n",
        "We'll be using a  RNN architecture called a Long Short-Term Memory (LSTM). LSTM better than a standard RNN. Standard RNNs suffer from the vanishing gradient problem. LSTMs overcome this by having an extra recurrent state called a _cell_, $c$ - which can be thought of as the \"memory\" of the LSTM - and the use use multiple _gates_ which control the flow of information into and out of the memory.\n",
        "\n"
      ]
    },
    {
      "cell_type": "code",
      "metadata": {
        "id": "ymsCyv1sZSxD"
      },
      "source": [
        "import torch.nn as nn\n",
        "\n",
        "class LSTM(nn.Module):\n",
        "    def __init__(self, vocab_size, embedding_dim, hidden_dim, output_dim, n_layers): \n",
        "         \n",
        "        super().__init__()\n",
        "\n",
        "### LSTM Architecture\n",
        "        \n",
        "        self.embedding = nn.Embedding(vocab_size, embedding_dim)#embedding layer is used to transform our sparse one-hot vector into a dense embedding vector\n",
        "        self.lstm = nn.LSTM(embedding_dim, \n",
        "                           hidden_dim, \n",
        "                           num_layers=n_layers) #LSTM with two layers ,takes in dense vector and the previous hidden state\n",
        "            \n",
        "        \n",
        "        self.fc = nn.Linear(hidden_dim , output_dim)# linear layer takes the final hidden state and feeds it through a fully connected layer, transforming it to the correct output dimension\n",
        "        \n",
        "    def forward(self, text):\n",
        "        \n",
        "        #text = [sent len, batch size]\n",
        "        embedded = self.embedding(text)\n",
        "        \n",
        "        # The final hidden state, hidden, has a shape of [num layers * num directions, batch size, hid dim]\n",
        "        output, (hidden, cell) = self.lstm(embedded) #output and a tuple of the final hidden state and the final cell state\n",
        "\n",
        "        hidden =  hidden[-1,:,:]  #final hidden state of our LSTM \n",
        "\n",
        "        return self.fc(hidden.squeeze(0))"
      ],
      "execution_count": null,
      "outputs": []
    },
    {
      "cell_type": "markdown",
      "metadata": {
        "id": "i4alR7TdgESL"
      },
      "source": [
        "We now create an instance of our LSTM class. \n"
      ]
    },
    {
      "cell_type": "code",
      "metadata": {
        "id": "B3gBfP6mEJ_0"
      },
      "source": [
        "INPUT_DIM = len(TEXT.vocab)#dimension of the one-hot vectors\n",
        "EMBEDDING_DIM = 100 #size of the dense word vectors\n",
        "HIDDEN_DIM = 256 #size of the hidden states\n",
        "OUTPUT_DIM = 1 #number of classes\n",
        "N_LAYERS = 2 # number of layers\n",
        "\n",
        "\n",
        "model = LSTM(INPUT_DIM, \n",
        "            EMBEDDING_DIM, \n",
        "            HIDDEN_DIM, \n",
        "            OUTPUT_DIM, \n",
        "            N_LAYERS)\n"
      ],
      "execution_count": null,
      "outputs": []
    },
    {
      "cell_type": "markdown",
      "metadata": {
        "id": "Eh-0_Qj_R1gw"
      },
      "source": [
        "Let's also create a function that will tell us how many trainable parameters our model has so we can compare the number of parameters across different models."
      ]
    },
    {
      "cell_type": "code",
      "metadata": {
        "colab": {
          "base_uri": "https://localhost:8080/"
        },
        "id": "j_DjGjbFkVMR",
        "outputId": "6e3c5a3e-7321-44b4-a64a-61c87d821150"
      },
      "source": [
        "\n",
        "def count_parameters(model):\n",
        "    return sum(p.numel() for p in model.parameters() if p.requires_grad)\n",
        "\n",
        "print(f'The model has {count_parameters(model):,} trainable parameters')"
      ],
      "execution_count": null,
      "outputs": [
        {
          "output_type": "stream",
          "text": [
            "The model has 3,393,385 trainable parameters\n"
          ],
          "name": "stdout"
        }
      ]
    },
    {
      "cell_type": "markdown",
      "metadata": {
        "id": "G55w_7vsgSAv"
      },
      "source": [
        "## Train the Model\n",
        "Now we'll set up the training and then train the model.\n",
        "\n",
        "First, we'll create an optimizer. This is the algorithm we use to update the parameters of the module. Here, we'll use `Adam`. Adam adapts the learning rate for each parameter, giving parameters that are updated more frequently lower learning rates and parameters that are updated infrequently higher learning rates"
      ]
    },
    {
      "cell_type": "code",
      "metadata": {
        "id": "VdGb8dKBEO2x"
      },
      "source": [
        "import torch.optim as optim\n",
        "\n",
        "optimizer = optim.Adam(model.parameters())"
      ],
      "execution_count": null,
      "outputs": []
    },
    {
      "cell_type": "markdown",
      "metadata": {
        "id": "jvNIwLQ5gccI"
      },
      "source": [
        "Next, we'll define our loss function.\n",
        "The loss function here is _binary cross entropy with logits_. \n",
        "\n",
        "Our model currently outputs an unbound real number. As our labels are either 0 or 1, we want to restrict the predictions to a number between 0 and 1. We do this using the _sigmoid_ or _logit_ functions. \n",
        "\n",
        "We then use this bound scalar to calculate the loss using binary cross entropy. \n",
        "\n",
        "The `BCEWithLogitsLoss` criterion carries out both the sigmoid and the binary cross entropy steps."
      ]
    },
    {
      "cell_type": "code",
      "metadata": {
        "id": "0Utp4-qAERRG"
      },
      "source": [
        "criterion = nn.BCEWithLogitsLoss()"
      ],
      "execution_count": null,
      "outputs": []
    },
    {
      "cell_type": "markdown",
      "metadata": {
        "id": "Z_EDxLNtghQL"
      },
      "source": [
        "Using `.to`, we can place the model and the criterion on the GPU  "
      ]
    },
    {
      "cell_type": "code",
      "metadata": {
        "id": "PyAXf58FESdL"
      },
      "source": [
        "model = model.to(device)\n",
        "criterion = criterion.to(device)"
      ],
      "execution_count": null,
      "outputs": []
    },
    {
      "cell_type": "markdown",
      "metadata": {
        "id": "a3IIaCBVgk7q"
      },
      "source": [
        "Let's write function to calculate the accuracy. \n",
        "\n",
        "This function first feeds the predictions through a sigmoid layer, squashing the values between 0 and 1, we then round them to the nearest integer. This rounds any value greater than 0.5 to 1 (a positive sentiment) and the rest to 0 (a negative sentiment).\n",
        "\n",
        "We then calculate how many rounded predictions equal the actual labels and average it across the batch."
      ]
    },
    {
      "cell_type": "code",
      "metadata": {
        "colab": {
          "base_uri": "https://localhost:8080/"
        },
        "id": "hLOh3MA1-wnG",
        "outputId": "65b4f8c5-c007-4d1e-da63-0b3b46cd1552"
      },
      "source": [
        "!pip install torchmetrics"
      ],
      "execution_count": null,
      "outputs": [
        {
          "output_type": "stream",
          "text": [
            "Requirement already satisfied: torchmetrics in /usr/local/lib/python3.7/dist-packages (0.4.1)\n",
            "Requirement already satisfied: packaging in /usr/local/lib/python3.7/dist-packages (from torchmetrics) (20.9)\n",
            "Requirement already satisfied: torch>=1.3.1 in /usr/local/lib/python3.7/dist-packages (from torchmetrics) (1.9.0+cu102)\n",
            "Requirement already satisfied: numpy>=1.17.2 in /usr/local/lib/python3.7/dist-packages (from torchmetrics) (1.19.5)\n",
            "Requirement already satisfied: pyparsing>=2.0.2 in /usr/local/lib/python3.7/dist-packages (from packaging->torchmetrics) (2.4.7)\n",
            "Requirement already satisfied: typing-extensions in /usr/local/lib/python3.7/dist-packages (from torch>=1.3.1->torchmetrics) (3.7.4.3)\n"
          ],
          "name": "stdout"
        }
      ]
    },
    {
      "cell_type": "code",
      "metadata": {
        "id": "8_fa_EQQ2THx"
      },
      "source": [
        "from torchmetrics import ConfusionMatrix\n",
        "from torchmetrics.functional import accuracy,precision,recall,f1\n",
        "\n",
        "def evaluation_metrics(prediction, target) :\n",
        "  \"\"\" Returns accuracy,precision ,recall,f1 score per batch \"\"\"\n",
        "  \n",
        "  preds = torch.sigmoid(prediction)\n",
        "  target=target.int()\n",
        "  # print(preds)\n",
        "  # print(target)\n",
        "\n",
        "  acc_value = accuracy(preds, target,multiclass=False)\n",
        "  precision_value = precision(preds, target,multiclass=False)\n",
        "  recall_value = recall(preds, target,multiclass=False)\n",
        "  f1_value = f1(preds, target,multiclass=False)\n",
        "  return acc_value, precision_value, recall_value, f1_value"
      ],
      "execution_count": null,
      "outputs": []
    },
    {
      "cell_type": "markdown",
      "metadata": {
        "id": "Xy8PAWgpgpoX"
      },
      "source": [
        "The `train` function iterates over all examples, one batch at a time. \n"
      ]
    },
    {
      "cell_type": "code",
      "metadata": {
        "id": "N1iGJW1wEUrL"
      },
      "source": [
        "def train(model, iterator, optimizer, criterion):\n",
        "    \n",
        "    epoch_loss,epoch_acc,epoch_psn,epoch_recall,epoch_f1_score = 0,0,0,0,0\n",
        "    \n",
        "    model.train()#put the model in \"training mode\"\n",
        "    \n",
        "    for batch in iterator:\n",
        "        \n",
        "        optimizer.zero_grad()#Zero accumulated gradients\n",
        "                \n",
        "        predictions = model(batch.text).squeeze(1)#feed the batch of sentences, batch.text, into the model\n",
        "        \n",
        "        loss = criterion(predictions, batch.label)#calculate loss\n",
        "        \n",
        "        # acc = binary_accuracy(predictions, batch.label)#calculate accuracy\n",
        "        acc,psn,recal,f1_score= evaluation_metrics(predictions, batch.label)\n",
        "        \n",
        "        loss.backward()#calculate the gradient of each parameter \n",
        "        \n",
        "        optimizer.step()#update the parameters using the gradients and optimizer algorithm \n",
        "        \n",
        "        epoch_loss += loss.item()#loss is accumulated across the epoch\n",
        "        epoch_acc += acc.item()# accuracy is accumulated across the epoch\n",
        "        epoch_psn +=psn.item()\n",
        "        epoch_recall +=recal.item()\n",
        "        epoch_f1_score +=f1_score.item()\n",
        "    return epoch_loss / len(iterator), epoch_acc / len(iterator),epoch_psn / len(iterator), epoch_recall / len(iterator), epoch_f1_score/ len(iterator)"
      ],
      "execution_count": null,
      "outputs": []
    },
    {
      "cell_type": "markdown",
      "metadata": {
        "id": "0dJXgYnM6oLS"
      },
      "source": [
        "`evaluate` function iterates over all examples, one batch at a time."
      ]
    },
    {
      "cell_type": "code",
      "metadata": {
        "id": "HNQxQS3tEWUW"
      },
      "source": [
        "def evaluate(model, iterator, criterion):\n",
        "    \n",
        "    epoch_loss,epoch_acc,epoch_psn,epoch_recall,epoch_f1_score = 0,0,0,0,0\n",
        "    # epoch_acc = 0\n",
        "    \n",
        "    model.eval()#puts the model in \"evaluation mode\"\n",
        "    \n",
        "    with torch.no_grad():#No gradients are calculated on PyTorch operations inside this block, causes less memory to be used and speeds up computation.\n",
        "    \n",
        "        for batch in iterator:\n",
        "\n",
        "            predictions = model(batch.text).squeeze(1)#feed the batch of sentences, batch.text, into the model\n",
        "            \n",
        "            loss = criterion(predictions, batch.label)#calculate loss\n",
        "            \n",
        "            # acc = binary_accuracy(predictions, batch.label)#calculate accuracy\n",
        "            acc,psn,recal,f1_score= evaluation_metrics(predictions, batch.label)\n",
        "\n",
        "            epoch_loss += loss.item()\n",
        "            epoch_acc += acc.item()\n",
        "            epoch_psn +=psn.item()\n",
        "            # epoch_acc_score +=acc_score.item()\n",
        "            epoch_recall +=recal.item()\n",
        "            epoch_f1_score +=f1_score.item()\n",
        "        \n",
        "    return epoch_loss / len(iterator), epoch_acc / len(iterator),epoch_psn / len(iterator), epoch_recall / len(iterator), epoch_f1_score/ len(iterator)"
      ],
      "execution_count": null,
      "outputs": []
    },
    {
      "cell_type": "markdown",
      "metadata": {
        "id": "FOjpDfq_gx23"
      },
      "source": [
        "We'll also create a function to tell us how long an epoch takes to compare training times between models."
      ]
    },
    {
      "cell_type": "code",
      "metadata": {
        "id": "DVM8MtV6EYIw"
      },
      "source": [
        "import time\n",
        "\n",
        "def epoch_time(start_time, end_time):\n",
        "    elapsed_time = end_time - start_time\n",
        "    elapsed_mins = int(elapsed_time / 60)\n",
        "    elapsed_secs = int(elapsed_time - (elapsed_mins * 60))\n",
        "    return elapsed_mins, elapsed_secs"
      ],
      "execution_count": null,
      "outputs": []
    },
    {
      "cell_type": "markdown",
      "metadata": {
        "id": "5Bt020rKg1t4"
      },
      "source": [
        "We then train the model through multiple epochs, an epoch being a complete pass through all examples in the training and validation sets.\n",
        "\n",
        "At each epoch, if the validation loss is the best we have seen so far, we'll save the parameters of the model and then after training has finished we'll use that model on the test set.\n",
        "\n",
        "We will also evaluate quality of predictions made by model using classification metrics like accuracy , precision, recall and f1 score"
      ]
    },
    {
      "cell_type": "code",
      "metadata": {
        "colab": {
          "base_uri": "https://localhost:8080/"
        },
        "id": "9wylvamPhy3u",
        "outputId": "2d6d7f4e-c914-48e7-d9e8-00c87c1064b5"
      },
      "source": [
        "N_EPOCHS=10\n",
        "best_valid_loss = float('inf')\n",
        "train_los, train_acc, train_psn, train_recal, train_f1=[],[],[],[],[]\n",
        "valid_los, valid_acc, valid_psn, valid_recal, valid_f1=[],[],[],[],[]\n",
        "\n",
        "for epoch in range(N_EPOCHS):\n",
        "\n",
        "    start_time = time.time()\n",
        "    \n",
        "    # train the model\n",
        "    train_loss, train_accuracy,train_precision,train_recall,train_f1_score = train(model, train_iterator, optimizer, criterion)\n",
        "    train_los.append(train_loss)\n",
        "    train_acc.append(train_accuracy)\n",
        "    train_psn.append(train_precision)\n",
        "    train_recal.append(train_recall)\n",
        "    train_f1.append(train_f1_score)\n",
        "    \n",
        "    \n",
        "    # evaluate the model\n",
        "    valid_loss, valid_accuracy,valid_precision,valid_recall,valid_f1_score = evaluate(model, valid_iterator, criterion)\n",
        "    valid_los.append(valid_loss)\n",
        "    valid_acc.append(valid_accuracy)\n",
        "    valid_psn.append(valid_precision)\n",
        "    valid_recal.append(valid_recall)\n",
        "    valid_f1.append(valid_f1_score)\n",
        "    \n",
        "    end_time = time.time()\n",
        "\n",
        "    epoch_mins, epoch_secs = epoch_time(start_time, end_time)\n",
        "    \n",
        "    if valid_loss < best_valid_loss:\n",
        "        best_valid_loss = valid_loss\n",
        "        torch.save(model.state_dict(), 'saved_weights.pt')\n",
        "    \n",
        "    print(f'Epoch: {epoch+1:02} | Epoch Time: {epoch_mins}m {epoch_secs}s')\n",
        "    print(f'\\tTrain Loss: {train_loss:.3f} | Train Acc: {train_accuracy*100:.2f}% | Train Precision: {train_precision*100:.2f}% | Train Recall: {train_recall*100:.2f}% | Train F1: {train_f1_score*100:.2f}')\n",
        "    print(f'\\t Val. Loss: {valid_loss:.3f} |  Val. Acc: {valid_accuracy*100:.2f}% | Val.Precision: {valid_precision*100:.2f}%  | Val.Recall: {valid_recall*100:.2f}% | Val.F1: {valid_f1_score*100:.2f}%')"
      ],
      "execution_count": null,
      "outputs": [
        {
          "output_type": "stream",
          "text": [
            "Epoch: 01 | Epoch Time: 0m 21s\n",
            "\tTrain Loss: 0.692 | Train Acc: 51.53% | Train Precision: 33.89% | Train Recall: 40.98% | Train F1: 33.02\n",
            "\t Val. Loss: 0.688 |  Val. Acc: 54.32% | Val.Precision: 52.88%  | Val.Recall: 91.93% | Val.F1: 66.58%\n",
            "Epoch: 02 | Epoch Time: 0m 21s\n",
            "\tTrain Loss: 0.608 | Train Acc: 66.22% | Train Precision: 66.39% | Train Recall: 65.15% | Train F1: 62.48\n",
            "\t Val. Loss: 0.462 |  Val. Acc: 78.60% | Val.Precision: 78.53%  | Val.Recall: 79.12% | Val.F1: 78.40%\n",
            "Epoch: 03 | Epoch Time: 0m 21s\n",
            "\tTrain Loss: 0.370 | Train Acc: 84.27% | Train Precision: 85.20% | Train Recall: 83.35% | Train F1: 83.47\n",
            "\t Val. Loss: 0.341 |  Val. Acc: 86.10% | Val.Precision: 86.12%  | Val.Recall: 86.22% | Val.F1: 85.84%\n",
            "Epoch: 04 | Epoch Time: 0m 21s\n",
            "\tTrain Loss: 0.253 | Train Acc: 90.10% | Train Precision: 90.63% | Train Recall: 89.77% | Train F1: 89.69\n",
            "\t Val. Loss: 0.315 |  Val. Acc: 87.34% | Val.Precision: 88.29%  | Val.Recall: 86.25% | Val.F1: 86.95%\n",
            "Epoch: 05 | Epoch Time: 0m 21s\n",
            "\tTrain Loss: 0.169 | Train Acc: 93.75% | Train Precision: 93.97% | Train Recall: 93.43% | Train F1: 93.47\n",
            "\t Val. Loss: 0.315 |  Val. Acc: 87.97% | Val.Precision: 88.53%  | Val.Recall: 87.43% | Val.F1: 87.68%\n",
            "Epoch: 06 | Epoch Time: 0m 21s\n",
            "\tTrain Loss: 0.108 | Train Acc: 96.28% | Train Precision: 96.36% | Train Recall: 96.11% | Train F1: 96.11\n",
            "\t Val. Loss: 0.331 |  Val. Acc: 87.87% | Val.Precision: 87.80%  | Val.Recall: 88.02% | Val.F1: 87.62%\n",
            "Epoch: 07 | Epoch Time: 0m 22s\n",
            "\tTrain Loss: 0.060 | Train Acc: 98.10% | Train Precision: 98.04% | Train Recall: 98.16% | Train F1: 98.03\n",
            "\t Val. Loss: 0.470 |  Val. Acc: 87.81% | Val.Precision: 89.05%  | Val.Recall: 86.16% | Val.F1: 87.29%\n",
            "Epoch: 08 | Epoch Time: 0m 21s\n",
            "\tTrain Loss: 0.044 | Train Acc: 98.66% | Train Precision: 98.68% | Train Recall: 98.58% | Train F1: 98.57\n",
            "\t Val. Loss: 0.470 |  Val. Acc: 86.95% | Val.Precision: 87.62%  | Val.Recall: 85.95% | Val.F1: 86.48%\n",
            "Epoch: 09 | Epoch Time: 0m 21s\n",
            "\tTrain Loss: 0.027 | Train Acc: 99.35% | Train Precision: 99.36% | Train Recall: 99.32% | Train F1: 99.32\n",
            "\t Val. Loss: 0.513 |  Val. Acc: 87.03% | Val.Precision: 89.50%  | Val.Recall: 84.04% | Val.F1: 86.34%\n",
            "Epoch: 10 | Epoch Time: 0m 22s\n",
            "\tTrain Loss: 0.025 | Train Acc: 99.29% | Train Precision: 99.31% | Train Recall: 99.29% | Train F1: 99.27\n",
            "\t Val. Loss: 0.547 |  Val. Acc: 87.83% | Val.Precision: 87.47%  | Val.Recall: 88.37% | Val.F1: 87.66%\n"
          ],
          "name": "stdout"
        }
      ]
    },
    {
      "cell_type": "markdown",
      "metadata": {
        "id": "u-Dpv9vUEeUu"
      },
      "source": [
        "Now Let's visualize our model performance"
      ]
    },
    {
      "cell_type": "markdown",
      "metadata": {
        "id": "c3UFb3VHEi5x"
      },
      "source": [
        "Loss"
      ]
    },
    {
      "cell_type": "code",
      "metadata": {
        "colab": {
          "base_uri": "https://localhost:8080/",
          "height": 277
        },
        "id": "KiIrx3Kykhiu",
        "outputId": "33c584f7-2cee-4168-9704-de7c53db0423"
      },
      "source": [
        "import matplotlib.pyplot as plt\n",
        "plt.style.use('seaborn-darkgrid')\n",
        "plt.figure()\n",
        "plt.plot(train_los, color = 'magenta')\n",
        "plt.plot(valid_los, color = '#606060')\n",
        "plt.title('Train and Validation Loss')\n",
        "plt.legend(['train ', 'validation'], loc = 'upper right')\n",
        "plt.grid(axis = 'y', c = 'black', alpha = 0.2)\n",
        "plt.grid(axis = 'x', c = 'black', alpha = 0.2)"
      ],
      "execution_count": null,
      "outputs": [
        {
          "output_type": "display_data",
          "data": {
            "image/png": "[encoded data removed]",
            "text/plain": [
              "<Figure size 432x288 with 1 Axes>"
            ]
          },
          "metadata": {
            "tags": []
          }
        }
      ]
    },
    {
      "cell_type": "markdown",
      "metadata": {
        "id": "1kKXbfjkElvG"
      },
      "source": [
        "Here we observe our traing loss is gradually decreasing which is good .But our validation loss starts to increase after decreasing for initial few epochs.This could be due to our mode is overfitting on training data , we could try adding regularization and reduction in model complexity to overcome this."
      ]
    },
    {
      "cell_type": "markdown",
      "metadata": {
        "id": "9_893f-1Hldm"
      },
      "source": [
        "Accuracy"
      ]
    },
    {
      "cell_type": "code",
      "metadata": {
        "colab": {
          "base_uri": "https://localhost:8080/",
          "height": 277
        },
        "id": "pJHYh3m_h_GO",
        "outputId": "6a295531-2504-4e60-a2b4-71b4e65fb573"
      },
      "source": [
        "import matplotlib.pyplot as plt\n",
        "plt.style.use('seaborn-darkgrid')\n",
        "plt.figure()\n",
        "plt.plot(train_acc, color = 'magenta')\n",
        "plt.plot(valid_acc, color = '#606060')\n",
        "plt.title('Train and Validation Accuracy')\n",
        "plt.legend(['train ', 'validation'], loc = 'upper right')\n",
        "plt.grid(axis = 'y', c = 'black', alpha = 0.2)\n",
        "plt.grid(axis = 'x', c = 'black', alpha = 0.2)"
      ],
      "execution_count": null,
      "outputs": [
        {
          "output_type": "display_data",
          "data": {
            "image/png": "[encoded data removed]",
            "text/plain": [
              "<Figure size 432x288 with 1 Axes>"
            ]
          },
          "metadata": {
            "tags": []
          }
        }
      ]
    },
    {
      "cell_type": "markdown",
      "metadata": {
        "id": "wcsz3EFNH5DV"
      },
      "source": [
        "Here we observe both our train accuracy is improving.But validation accuracy is not improving further after few initial epochs.The gap between training and validation accuracy is a clear indication of overfitting. The larger the gap, the higher the overfitting. Our training accuracy is around 99 % while bestvalidation accuracy is 87.97 %"
      ]
    },
    {
      "cell_type": "markdown",
      "metadata": {
        "id": "1T3esDPXI9e-"
      },
      "source": [
        "Precision"
      ]
    },
    {
      "cell_type": "code",
      "metadata": {
        "colab": {
          "base_uri": "https://localhost:8080/",
          "height": 277
        },
        "id": "VWp_A59ViMgN",
        "outputId": "e62cecfc-907d-45f9-9554-a50f49f8711c"
      },
      "source": [
        "import matplotlib.pyplot as plt\n",
        "plt.style.use('seaborn-darkgrid')\n",
        "plt.figure()\n",
        "plt.plot(train_psn, color = 'magenta')\n",
        "plt.plot(valid_psn, color = '#606060')\n",
        "plt.title('Train and Validation Precision')\n",
        "plt.legend(['train ', 'validation'], loc = 'upper right')\n",
        "plt.grid(axis = 'y', c = 'black', alpha = 0.2)\n",
        "plt.grid(axis = 'x', c = 'black', alpha = 0.2)"
      ],
      "execution_count": null,
      "outputs": [
        {
          "output_type": "display_data",
          "data": {
            "image/png": "[encoded data removed]",
            "text/plain": [
              "<Figure size 432x288 with 1 Axes>"
            ]
          },
          "metadata": {
            "tags": []
          }
        }
      ]
    },
    {
      "cell_type": "markdown",
      "metadata": {
        "id": "Z2YMb7J5JBEC"
      },
      "source": [
        "Precision is the ratio between the True Positives and all the Positives. For our problem statement, that would be the measure of reviews that we correctly identify as positive out of all the positive reviews. \n",
        "\n",
        "What is the Precision for our model? Yes, it is 0.89 or, when it predicts that a review is positive, it is correct around 89% of the time."
      ]
    },
    {
      "cell_type": "markdown",
      "metadata": {
        "id": "lhIXPcxfJAsB"
      },
      "source": [
        "Recall"
      ]
    },
    {
      "cell_type": "code",
      "metadata": {
        "id": "bJ8IHE4E5EuQ",
        "colab": {
          "base_uri": "https://localhost:8080/",
          "height": 277
        },
        "outputId": "cbc60c90-6afb-4f86-c352-8e31f726c77a"
      },
      "source": [
        "import matplotlib.pyplot as plt\n",
        "plt.style.use('seaborn-darkgrid')\n",
        "plt.figure()\n",
        "plt.plot(train_recal, color = 'magenta')\n",
        "plt.plot(valid_recal, color = '#606060')\n",
        "plt.title('Train and Validation Recall')\n",
        "plt.legend(['train ', 'validation'], loc = 'upper right')\n",
        "plt.grid(axis = 'y', c = 'black', alpha = 0.2)\n",
        "plt.grid(axis = 'x', c = 'black', alpha = 0.2)"
      ],
      "execution_count": null,
      "outputs": [
        {
          "output_type": "display_data",
          "data": {
            "image/png": "[encoded data removed]",
            "text/plain": [
              "<Figure size 432x288 with 1 Axes>"
            ]
          },
          "metadata": {
            "tags": []
          }
        }
      ]
    },
    {
      "cell_type": "markdown",
      "metadata": {
        "id": "2xCq_Ky7JGBu"
      },
      "source": [
        "The recall is the measure of our model correctly identifying True Positives. Thus, for all the reviews that are actually positive, recall tells us how many we correctly identified as positive. \n",
        "For our model, Recall  = 0.88,which is pretty good. Recall also gives a measure of how accurately our model is able to identify the relevant data. We refer to it as Sensitivity or True Positive Rate. \n",
        " "
      ]
    },
    {
      "cell_type": "markdown",
      "metadata": {
        "id": "Yp0vyBPIJF5f"
      },
      "source": [
        "F1 Score"
      ]
    },
    {
      "cell_type": "code",
      "metadata": {
        "id": "gqxu1PiG5Wnx",
        "colab": {
          "base_uri": "https://localhost:8080/",
          "height": 277
        },
        "outputId": "66b8d65e-73da-40d5-8aff-a9dca77732d8"
      },
      "source": [
        "import matplotlib.pyplot as plt\n",
        "plt.style.use('seaborn-darkgrid')\n",
        "plt.figure()\n",
        "plt.plot(train_f1, color = 'magenta')\n",
        "plt.plot(valid_f1, color = '#606060')\n",
        "plt.title('Train and Validation F1-score')\n",
        "plt.legend(['train ', 'validation'], loc = 'upper right')\n",
        "plt.grid(axis = 'y', c = 'black', alpha = 0.2)\n",
        "plt.grid(axis = 'x', c = 'black', alpha = 0.2)"
      ],
      "execution_count": null,
      "outputs": [
        {
          "output_type": "display_data",
          "data": {
            "image/png": "[encoded data removed]",
            "text/plain": [
              "<Figure size 432x288 with 1 Axes>"
            ]
          },
          "metadata": {
            "tags": []
          }
        }
      ]
    },
    {
      "cell_type": "markdown",
      "metadata": {
        "id": "JmRCguRhUBgv"
      },
      "source": [
        "F1 Score is the weighted average of Precision and Recall. Therefore, this score takes both false positives and false negatives into account. Intuitively it is not as easy to understand as accuracy, but F1 is usually more useful than accuracy, especially if you have an uneven class distribution. Accuracy works best if false positives and false negatives have similar cost. If the cost of false positives and false negatives are very different, it’s better to look at both Precision and Recall. In our case, F1 score is ~.88.,which is pretty good\n",
        "\n",
        "F1 Score = 2*(Recall * Precision) / (Recall + Precision)"
      ]
    },
    {
      "cell_type": "markdown",
      "metadata": {
        "id": "yrYc2JO86_aV"
      },
      "source": [
        "Test accuracy"
      ]
    },
    {
      "cell_type": "code",
      "metadata": {
        "id": "qIiKAJMaEbKO",
        "colab": {
          "base_uri": "https://localhost:8080/"
        },
        "outputId": "6f6a7958-3dd2-479f-e069-ebcdd7dc96b4"
      },
      "source": [
        "model.load_state_dict(torch.load('saved_weights.pt'))\n",
        "\n",
        "test_loss, test_acc,test_psn,test_recal,test_f1 = evaluate(model, test_iterator, criterion)\n",
        "\n",
        "print(f'\\t Test Loss: {test_loss:.3f} |  Test Acc: {test_acc*100:.2f}% | Test Precision: {test_psn*100:.2f}%  | Test Recall: {test_recal*100:.2f}% | Test F1: {test_f1*100:.2f}%')"
      ],
      "execution_count": null,
      "outputs": [
        {
          "output_type": "stream",
          "text": [
            "\t Test Loss: 0.323 |  Test Acc: 87.46% | Test Precision: 78.40%  | Test Recall: 77.26% | Test F1: 76.90%\n"
          ],
          "name": "stdout"
        }
      ]
    },
    {
      "cell_type": "markdown",
      "metadata": {
        "id": "B5SqbWpkiALh"
      },
      "source": [
        "# User Input\n",
        "We can now use our model to predict the sentiment of any sentence we give it. As it has been trained on movie reviews, the sentences provided should also be movie reviews.\n",
        "\n",
        "Our predict_sentiment function does a few things:\n",
        "\n",
        "sets the model to evaluation mode\n",
        "\n",
        "*   sets the model to evaluation mode\n",
        "*   tokenizes the sentence, i.e. splits it from a raw string into a list of tokens indexes the tokens by converting them into their integer representation from our vocabulary\n",
        "*   converts the indexes, which are a Python list into a PyTorch tensor\n",
        "*   add a batch dimension by unsqueezeing\n",
        "*   squashes the output prediction from a real number between 0 and 1 with the sigmoid function.We are expecting reviews with a negative sentiment to return a value close to 0 and positive reviews to return a value close to 1.So we round the value to get exact values\n",
        "*   converts the tensor holding a single value into an integer with the item() method.Select corresponding sentiment value from dictionary\n"
      ]
    },
    {
      "cell_type": "code",
      "metadata": {
        "id": "-pd7_MXTkzL0"
      },
      "source": [
        "# load weights and tokenizer\n",
        "\n",
        "path='./saved_weights.pt'\n",
        "model.load_state_dict(torch.load(path));\n",
        "model.eval();#sets the model to evaluation mode\n",
        "tokenizer_file = open('./tokenizer.pkl', 'rb')\n",
        "tokenizer = pickle.load(tokenizer_file)\n",
        "\n",
        "#inference \n",
        "\n",
        "import spacy\n",
        "nlp = spacy.load('en')\n",
        "\n",
        "def classify_review(sentence):\n",
        "    categories = { 0:\"negative\",1:\"positive\"}\n",
        "     # tokenize the sentences \n",
        "    tokenized = [tok.text for tok in nlp.tokenizer(sentence)] \n",
        "    # convert to integer sequence using predefined tokenizer dictionary\n",
        "    indexed = [tokenizer[t] for t in tokenized]        \n",
        "    # convert to tensor                                    \n",
        "    tensor = torch.LongTensor(indexed).to(device)   \n",
        "    # reshape in form of batch, no. of words           \n",
        "    tensor = tensor.unsqueeze(1) \n",
        "    # Get the model prediction                  \n",
        "    prediction = torch.round(torch.sigmoid(model(tensor)))\n",
        "    print(prediction)\n",
        "    return categories[prediction.item()]\n"
      ],
      "execution_count": null,
      "outputs": []
    },
    {
      "cell_type": "code",
      "metadata": {
        "id": "G024NssCEcj0",
        "colab": {
          "base_uri": "https://localhost:8080/",
          "height": 52
        },
        "outputId": "f2070555-93bf-4f08-a3b9-dceee481176f"
      },
      "source": [
        "classify_review(\"very bad movie ..!!\")"
      ],
      "execution_count": null,
      "outputs": [
        {
          "output_type": "stream",
          "text": [
            "tensor([0.], device='cuda:0', grad_fn=<RoundBackward>)\n"
          ],
          "name": "stdout"
        },
        {
          "output_type": "execute_result",
          "data": {
            "application/vnd.google.colaboratory.intrinsic+json": {
              "type": "string"
            },
            "text/plain": [
              "'negative'"
            ]
          },
          "metadata": {
            "tags": []
          },
          "execution_count": 51
        }
      ]
    },
    {
      "cell_type": "code",
      "metadata": {
        "colab": {
          "base_uri": "https://localhost:8080/",
          "height": 52
        },
        "id": "_7etIlAmjISQ",
        "outputId": "9a26964c-2896-45e7-e5ea-3e28599a14fd"
      },
      "source": [
        "classify_review(\"Fantastic film.Loved it \")"
      ],
      "execution_count": null,
      "outputs": [
        {
          "output_type": "stream",
          "text": [
            "tensor([1.], device='cuda:0', grad_fn=<RoundBackward>)\n"
          ],
          "name": "stdout"
        },
        {
          "output_type": "execute_result",
          "data": {
            "application/vnd.google.colaboratory.intrinsic+json": {
              "type": "string"
            },
            "text/plain": [
              "'positive'"
            ]
          },
          "metadata": {
            "tags": []
          },
          "execution_count": 52
        }
      ]
    },
    {
      "cell_type": "code",
      "metadata": {
        "colab": {
          "base_uri": "https://localhost:8080/",
          "height": 52
        },
        "id": "oe1gRz8vjNR8",
        "outputId": "5b625d9b-3182-4b86-b898-9b19da5b6cc5"
      },
      "source": [
        "classify_review(\"Will Watch it again and again \")"
      ],
      "execution_count": null,
      "outputs": [
        {
          "output_type": "stream",
          "text": [
            "tensor([1.], device='cuda:0', grad_fn=<RoundBackward>)\n"
          ],
          "name": "stdout"
        },
        {
          "output_type": "execute_result",
          "data": {
            "application/vnd.google.colaboratory.intrinsic+json": {
              "type": "string"
            },
            "text/plain": [
              "'positive'"
            ]
          },
          "metadata": {
            "tags": []
          },
          "execution_count": 53
        }
      ]
    },
    {
      "cell_type": "code",
      "metadata": {
        "id": "j81ISqF0jTHi"
      },
      "source": [
        ""
      ],
      "execution_count": null,
      "outputs": []
    }
  ]
}